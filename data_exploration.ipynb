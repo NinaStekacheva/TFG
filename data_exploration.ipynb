{
 "cells": [
  {
   "cell_type": "code",
   "execution_count": 3,
   "metadata": {},
   "outputs": [
    {
     "name": "stdout",
     "output_type": "stream",
     "text": [
      "['NOX' 'NO' 'NO2' 'SO2' 'O3' 'H2S' 'PM2.5' 'PM10' 'C6H6' 'Hg' 'CO' 'PM1'\n",
      " 'Cl2' 'HCNM' 'HCT' 'PS' 'HCl']\n"
     ]
    }
   ],
   "source": [
    "import pandas as pd\n",
    "\n",
    "# Reemplaza la ruta de abajo con la ruta exacta de tu archivo CSV\n",
    "file_path = 'data/Qualitat_de_l_aire_als_punts_de_mesurament_autom_tics_de_la_Xarxa_de_Vigil_ncia_i_Previsi__de_la_Contaminaci__Atmosf_rica_20240307.csv'\n",
    "\n",
    "# Leer el dataset CSV\n",
    "df = pd.read_csv(file_path, low_memory=False)\n",
    "\n",
    "# Obtener valores únicos de la columna 'CONTAMINANT'\n",
    "unique_contaminants = df['CONTAMINANT'].unique()\n",
    "\n",
    "# Imprimir los valores únicos\n",
    "print(unique_contaminants)"
   ]
  },
  {
   "cell_type": "markdown",
   "metadata": {},
   "source": [
    "Get data from Barcelona"
   ]
  },
  {
   "cell_type": "code",
   "execution_count": 5,
   "metadata": {},
   "outputs": [
    {
     "name": "stdout",
     "output_type": "stream",
     "text": [
      "Archivo 'data/Barcelona_Qualitat_Aire.csv' creado con éxito.\n"
     ]
    }
   ],
   "source": [
    "# Filtrar los datos para obtener solo aquellos registros donde 'Nom estació' contiene 'Barcelona'\n",
    "df_barcelona = df[df['NOM ESTACIO'].str.contains('Barcelona')]\n",
    "\n",
    "# Especificar la ruta del nuevo archivo CSV\n",
    "new_file_path = 'data/Barcelona_Qualitat_Aire.csv'\n",
    "\n",
    "# Guardar el dataframe filtrado en un nuevo archivo CSV\n",
    "df_barcelona.to_csv(new_file_path, index=False)\n",
    "\n",
    "print(f\"Archivo '{new_file_path}' creado con éxito.\")"
   ]
  },
  {
   "cell_type": "markdown",
   "metadata": {},
   "source": [
    "Barcelona Stations and it's Locations"
   ]
  },
  {
   "cell_type": "code",
   "execution_count": 17,
   "metadata": {},
   "outputs": [
    {
     "name": "stdout",
     "output_type": "stream",
     "text": [
      "                               NOM ESTACIO    LATITUD  LONGITUD\n",
      "34            Barcelona (Parc Vall Hebron)  41.426110  2.148002\n",
      "37                  Barcelona (Ciutadella)  41.386406  2.187398\n",
      "47                    Barcelona (Eixample)  41.385315  2.153800\n",
      "78                 Barcelona (Palau Reial)  41.387490  2.115200\n",
      "92                    Barcelona (Poblenou)  41.403880  2.204501\n",
      "118      Barcelona (Gràcia - Sant Gervasi)  41.398724  2.153399\n",
      "227          Barcelona (Observatori Fabra)  41.418430  2.123897\n",
      "255                      Barcelona (Sants)  41.378780  2.133099\n",
      "1659948           Barcelona (Torre Girona)  41.389726  2.115836\n",
      "2399912                Barcelona (Sagrera)  41.422213  2.190555\n",
      "2768820            Barcelona (St. Gervasi)  41.401128  2.146942\n"
     ]
    }
   ],
   "source": [
    "aq_station_location_info = df_barcelona[['NOM ESTACIO', 'LATITUD', 'LONGITUD']].drop_duplicates(subset=['NOM ESTACIO'])\n",
    "\n",
    "# Print the DataFrame\n",
    "print(aq_station_location_info)"
   ]
  },
  {
   "cell_type": "code",
   "execution_count": 9,
   "metadata": {},
   "outputs": [
    {
     "data": {
      "text/plain": [
       "Index(['CODI EOI', 'NOM ESTACIO', 'DATA', 'MAGNITUD', 'CONTAMINANT', 'UNITATS',\n",
       "       'TIPUS ESTACIO', 'AREA URBANA', 'CODI INE', 'MUNICIPI', 'CODI COMARCA',\n",
       "       'NOM COMARCA', '01h', '02h', '03h', '04h', '05h', '06h', '07h', '08h',\n",
       "       '09h', '10h', '11h', '12h', '13h', '14h', '15h', '16h', '17h', '18h',\n",
       "       '19h', '20h', '21h', '22h', '23h', '24h', 'ALTITUD', 'LATITUD',\n",
       "       'LONGITUD', 'Georeferència'],\n",
       "      dtype='object')"
      ]
     },
     "execution_count": 9,
     "metadata": {},
     "output_type": "execute_result"
    }
   ],
   "source": [
    "df_barcelona.columns"
   ]
  },
  {
   "cell_type": "code",
   "execution_count": 24,
   "metadata": {},
   "outputs": [
    {
     "name": "stdout",
     "output_type": "stream",
     "text": [
      "El DataFrame 'df_barcelona' tiene 79123 filas con al menos un valor NA sobre 343218 filas.\n",
      "Conteo de valores NA por columna:\n",
      "CODI EOI             0\n",
      "NOM ESTACIO          0\n",
      "DATA                 0\n",
      "MAGNITUD             0\n",
      "CONTAMINANT          0\n",
      "UNITATS              0\n",
      "TIPUS ESTACIO        0\n",
      "AREA URBANA          0\n",
      "CODI INE             0\n",
      "MUNICIPI             0\n",
      "CODI COMARCA         0\n",
      "NOM COMARCA          0\n",
      "01h              13561\n",
      "02h              13899\n",
      "03h              11012\n",
      "04h              11039\n",
      "05h              10512\n",
      "06h              10513\n",
      "07h              10210\n",
      "08h              10368\n",
      "09h              12184\n",
      "10h              13732\n",
      "11h              17291\n",
      "12h              18825\n",
      "13h              18549\n",
      "14h              16231\n",
      "15h              15144\n",
      "16h              14455\n",
      "17h              11068\n",
      "18h               9477\n",
      "19h               9215\n",
      "20h               9011\n",
      "21h               9023\n",
      "22h               9538\n",
      "23h              10923\n",
      "24h              13031\n",
      "ALTITUD              0\n",
      "LATITUD              0\n",
      "LONGITUD             0\n",
      "Georeferència    16339\n",
      "dtype: int64\n"
     ]
    }
   ],
   "source": [
    "# Calcula el número de filas con al menos un valor NA\n",
    "num_rows_with_na = df_barcelona.isna().any(axis=1).sum()\n",
    "\n",
    "# Imprime el resultado\n",
    "print(f\"El DataFrame 'df_barcelona' tiene {num_rows_with_na} filas con al menos un valor NA sobre {df_barcelona.shape[0]} filas.\")\n",
    "# Conteo de valores NA por columna\n",
    "na_values_per_column = df_barcelona.isna().sum()\n",
    "\n",
    "print(\"Conteo de valores NA por columna:\")\n",
    "print(na_values_per_column)"
   ]
  },
  {
   "cell_type": "markdown",
   "metadata": {},
   "source": [
    "Check NA values per station"
   ]
  },
  {
   "cell_type": "code",
   "execution_count": 39,
   "metadata": {},
   "outputs": [],
   "source": [
    "# Calcula el número de filas con al menos un valor NA\n",
    "def station_checker(station_name):\n",
    "    df_barcelona_ciutadella= df_barcelona[df_barcelona[\"NOM ESTACIO\"]==station_name]\n",
    "    num_rows_with_na_ciutadella = df_barcelona_ciutadella.isna().any(axis=1).sum()\n",
    "\n",
    "    # Imprime el resultado\n",
    "    print(f\"El DataFrame 'df_barcelona' tiene {num_rows_with_na_ciutadella} filas con al menos un valor NA sobre {df_barcelona_ciutadella.shape[0]} filas.\")\n",
    "    # Conteo de valores NA por columna\n",
    "    na_values_per_column_ciutadella = df_barcelona_ciutadella.isna().sum()\n",
    "\n",
    "    #print(\"Conteo de valores NA por columna:\")\n",
    "    #print(na_values_per_column_ciutadella)\n",
    "    df_barcelona_ciutadella['DATA'] = pd.to_datetime(df_barcelona_ciutadella['DATA'])\n",
    "    try:\n",
    "        print(min(df_barcelona_ciutadella[\"DATA\"]))\n",
    "        print(max(df_barcelona_ciutadella[\"DATA\"]))\n",
    "    except:\n",
    "        print(\"date error\")\n",
    "    print(df_barcelona_ciutadella['CONTAMINANT'].unique())"
   ]
  },
  {
   "cell_type": "code",
   "execution_count": 43,
   "metadata": {},
   "outputs": [
    {
     "name": "stderr",
     "output_type": "stream",
     "text": [
      "<ipython-input-43-ac44c80b3957>:1: SettingWithCopyWarning: \n",
      "A value is trying to be set on a copy of a slice from a DataFrame.\n",
      "Try using .loc[row_indexer,col_indexer] = value instead\n",
      "\n",
      "See the caveats in the documentation: https://pandas.pydata.org/pandas-docs/stable/user_guide/indexing.html#returning-a-view-versus-a-copy\n",
      "  df_barcelona['DATA'] = pd.to_datetime(df_barcelona['DATA'])\n"
     ]
    }
   ],
   "source": [
    "df_barcelona['DATA'] = pd.to_datetime(df_barcelona['DATA'])"
   ]
  },
  {
   "cell_type": "code",
   "execution_count": 41,
   "metadata": {},
   "outputs": [
    {
     "name": "stdout",
     "output_type": "stream",
     "text": [
      "Barcelona (Parc Vall Hebron)\n",
      "El DataFrame 'df_barcelona' tiene 9937 filas con al menos un valor NA sobre 36792 filas.\n",
      "01/01/2008\n",
      "31/12/2023\n",
      "['NOX' 'NO' 'CO' 'NO2' 'SO2' 'PM10' 'O3']\n",
      "Barcelona (Ciutadella)\n",
      "El DataFrame 'df_barcelona' tiene 4538 filas con al menos un valor NA sobre 31082 filas.\n",
      "01/01/2005\n",
      "31/12/2023\n",
      "['NO2' 'NOX' 'NO' 'O3' 'CO' 'SO2']\n",
      "Barcelona (Eixample)\n",
      "El DataFrame 'df_barcelona' tiene 13417 filas con al menos un valor NA sobre 54407 filas.\n",
      "01/01/1996\n",
      "31/12/2023\n",
      "['PM10' 'O3' 'SO2' 'NO' 'PM2.5' 'CO' 'NO2' 'NOX' 'H2S']\n",
      "Barcelona (Palau Reial)\n",
      "El DataFrame 'df_barcelona' tiene 7027 filas con al menos un valor NA sobre 31881 filas.\n",
      "01/01/2012\n",
      "31/12/2023\n",
      "['CO' 'O3' 'PM2.5' 'NO2' 'SO2' 'NO' 'PM10' 'NOX']\n",
      "Barcelona (Poblenou)\n",
      "El DataFrame 'df_barcelona' tiene 12641 filas con al menos un valor NA sobre 50992 filas.\n",
      "01/01/1991\n",
      "31/12/2023\n",
      "['NO' 'NOX' 'NO2' 'PM10' 'SO2' 'O3' 'CO' 'PM2.5']\n",
      "Barcelona (Gràcia - Sant Gervasi)\n",
      "El DataFrame 'df_barcelona' tiene 12951 filas con al menos un valor NA sobre 56624 filas.\n",
      "01/01/1999\n",
      "31/12/2023\n",
      "['SO2' 'NO2' 'O3' 'NOX' 'NO' 'PM10' 'CO' 'H2S' 'PM2.5']\n",
      "Barcelona (Observatori Fabra)\n",
      "El DataFrame 'df_barcelona' tiene 3026 filas con al menos un valor NA sobre 10707 filas.\n",
      "01/01/2019\n",
      "31/12/2023\n",
      "['NO' 'O3' 'PM10' 'NO2' 'NOX']\n",
      "Barcelona (Sants)\n",
      "El DataFrame 'df_barcelona' tiene 6127 filas con al menos un valor NA sobre 38864 filas.\n",
      "01/01/1995\n",
      "31/12/2023\n",
      "['NO2' 'NO' 'NOX' 'CO' 'SO2' 'PM10']\n",
      "Barcelona (Torre Girona)\n",
      "El DataFrame 'df_barcelona' tiene 263 filas con al menos un valor NA sobre 1343 filas.\n",
      "01/01/2011\n",
      "31/12/2010\n",
      "['NO2' 'SO2' 'CO' 'O3' 'NO']\n",
      "Barcelona (Sagrera)\n",
      "El DataFrame 'df_barcelona' tiene 3958 filas con al menos un valor NA sobre 16733 filas.\n",
      "01/01/1994\n",
      "31/12/2000\n",
      "['NO' 'NO2' 'PM10' 'O3' 'CO' 'SO2' 'PS']\n",
      "Barcelona (St. Gervasi)\n",
      "El DataFrame 'df_barcelona' tiene 5238 filas con al menos un valor NA sobre 13793 filas.\n",
      "01/01/1992\n",
      "31/12/1996\n",
      "['NO' 'NO2' 'PS' 'O3' 'CO' 'SO2' 'HCT' 'HCNM']\n"
     ]
    }
   ],
   "source": [
    "aq_bcn_stations=['Barcelona (Parc Vall Hebron)','Barcelona (Ciutadella)','Barcelona (Eixample)','Barcelona (Palau Reial)','Barcelona (Poblenou)','Barcelona (Gràcia - Sant Gervasi)','Barcelona (Observatori Fabra)','Barcelona (Sants)','Barcelona (Torre Girona)','Barcelona (Sagrera)','Barcelona (St. Gervasi)']\n",
    "for s in aq_bcn_stations:\n",
    "    print(s)\n",
    "    station_checker(s)"
   ]
  }
 ],
 "metadata": {
  "kernelspec": {
   "display_name": "base",
   "language": "python",
   "name": "python3"
  },
  "language_info": {
   "codemirror_mode": {
    "name": "ipython",
    "version": 3
   },
   "file_extension": ".py",
   "mimetype": "text/x-python",
   "name": "python",
   "nbconvert_exporter": "python",
   "pygments_lexer": "ipython3",
   "version": "3.8.3"
  }
 },
 "nbformat": 4,
 "nbformat_minor": 2
}
