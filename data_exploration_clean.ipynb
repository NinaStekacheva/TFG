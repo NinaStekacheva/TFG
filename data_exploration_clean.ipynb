{
 "cells": [
  {
   "cell_type": "code",
   "execution_count": null,
   "metadata": {},
   "outputs": [],
   "source": []
  },
  {
   "cell_type": "markdown",
   "metadata": {},
   "source": [
    "AIR QUALITY IN CATALONIA: DATA EXPLORATION"
   ]
  },
  {
   "cell_type": "markdown",
   "metadata": {},
   "source": [
    "Full dataset: \n",
    "https://analisi.transparenciacatalunya.cat/Medi-Ambient/Qualitat-de-l-aire-als-punts-de-mesurament-autom-t/tasf-thgu/about_data "
   ]
  },
  {
   "cell_type": "code",
   "execution_count": 2,
   "metadata": {},
   "outputs": [],
   "source": [
    "import pandas as pd\n",
    "\n",
    "# Reemplaza la ruta de abajo con la ruta exacta de tu archivo CSV\n",
    "file_path = 'data/Qualitat_de_l_aire_als_punts_de_mesurament_autom_tics_de_la_Xarxa_de_Vigil_ncia_i_Previsi__de_la_Contaminaci__Atmosf_rica_20240307.csv'\n",
    "\n",
    "# Leer el dataset CSV\n",
    "df = pd.read_csv(file_path, low_memory=False)\n"
   ]
  },
  {
   "cell_type": "code",
   "execution_count": 14,
   "metadata": {},
   "outputs": [
    {
     "name": "stdout",
     "output_type": "stream",
     "text": [
      "\n",
      "Full Dataset Shape:  (3261697, 40)\n",
      "\n",
      "Dataset Columns:  Index(['CODI EOI', 'NOM ESTACIO', 'DATA', 'MAGNITUD', 'CONTAMINANT', 'UNITATS',\n",
      "       'TIPUS ESTACIO', 'AREA URBANA', 'CODI INE', 'MUNICIPI', 'CODI COMARCA',\n",
      "       'NOM COMARCA', '01h', '02h', '03h', '04h', '05h', '06h', '07h', '08h',\n",
      "       '09h', '10h', '11h', '12h', '13h', '14h', '15h', '16h', '17h', '18h',\n",
      "       '19h', '20h', '21h', '22h', '23h', '24h', 'ALTITUD', 'LATITUD',\n",
      "       'LONGITUD', 'Georeferència'],\n",
      "      dtype='object')\n",
      "\n",
      "Unique Pollutants: ['NOX' 'NO' 'NO2' 'SO2' 'O3' 'H2S' 'PM2.5' 'PM10' 'C6H6' 'Hg' 'CO' 'PM1'\n",
      " 'Cl2' 'HCNM' 'HCT' 'PS' 'HCl']\n",
      "\n",
      "Regions: ['Garrigues' 'Baix Camp' 'Baix Llobregat' 'Vallès Oriental' 'Maresme'\n",
      " 'Osona' 'Alt Camp' 'Tarragonès' 'Bages' 'Montsià' 'Garraf'\n",
      " 'Vallès Occidental' 'Anoia' 'Gironès' 'Baix Empordà' 'Pallars Jussà'\n",
      " 'Cerdanya' 'Ribera d¿Ebre' 'Barcelonès' 'Garrotxa' 'Segrià' 'Terra Alta'\n",
      " 'Berguedà' 'Pallars Sobirà' 'Alt Penedès' 'Noguera' 'Baix Ebre' 'Priorat'\n",
      " 'Alt Empordà' 'Ripollès' \"Ribera d'Ebre\"]\n",
      "\n",
      "Station Types: ['background' 'industrial' 'traffic']\n",
      "\n",
      "Urban Areas: ['rural' 'suburban' 'urban' 'peri-urban']\n"
     ]
    }
   ],
   "source": [
    "print('\\nFull Dataset Shape: ',df.shape)\n",
    "print('\\nDataset Columns: ',df.columns)\n",
    "print('\\nUnique Pollutants:',df['CONTAMINANT'].unique())\n",
    "print('\\nRegions:',df['NOM COMARCA'].unique())\n",
    "print('\\nStation Types:',df['TIPUS ESTACIO'].unique())\n",
    "print('\\nUrban Areas:',df['AREA URBANA'].unique())"
   ]
  },
  {
   "cell_type": "markdown",
   "metadata": {},
   "source": [
    "AREA OF INTEREST: Barcelona"
   ]
  },
  {
   "cell_type": "code",
   "execution_count": null,
   "metadata": {},
   "outputs": [
    {
     "name": "stdout",
     "output_type": "stream",
     "text": [
      "Archivo 'data/BarcelonaAirQuality.csv' creado con éxito.\n"
     ]
    }
   ],
   "source": [
    "# Filtrar los datos para obtener solo aquellos registros donde 'Nom estació' contiene 'Barcelona'\n",
    "df_barcelona = df[df['MUNICIPI']=='Barcelona']\n",
    "\n",
    "# Especificar la ruta del nuevo archivo CSV\n",
    "new_file_path = 'data/BarcelonaAirQuality.csv'\n",
    "\n",
    "# Guardar el dataframe filtrado en un nuevo archivo CSV\n",
    "df_barcelona.to_csv(new_file_path, index=False)\n",
    "\n",
    "print(f\"Archivo '{new_file_path}' creado con éxito.\")"
   ]
  },
  {
   "cell_type": "code",
   "execution_count": 25,
   "metadata": {},
   "outputs": [],
   "source": [
    "import pandas as pd\n",
    "\n",
    "# Reemplaza la ruta de abajo con la ruta exacta de tu archivo CSV\n",
    "file_path = 'data/BarcelonaAirQuality.csv'\n",
    "\n",
    "# Leer el dataset CSV\n",
    "df_barcelona = pd.read_csv(file_path, low_memory=False)\n",
    "df_barcelona[\"DATA\"] = pd.to_datetime(df_barcelona[\"DATA\"], format='%d/%m/%Y', dayfirst=True)\n",
    "\n"
   ]
  },
  {
   "cell_type": "code",
   "execution_count": 17,
   "metadata": {},
   "outputs": [
    {
     "name": "stdout",
     "output_type": "stream",
     "text": [
      "\n",
      "Barcelona's Dataset Shape:  (343218, 40)\n"
     ]
    }
   ],
   "source": [
    "print(\"\\nBarcelona's Dataset Shape: \",df_barcelona.shape)"
   ]
  },
  {
   "cell_type": "code",
   "execution_count": 41,
   "metadata": {},
   "outputs": [],
   "source": [
    "def station_checker1(df,station_name):\n",
    "    #prints na values, and the oldest and earliest date of a station data\n",
    "    df_station= df[df[\"NOM ESTACIO\"]==station_name]\n",
    "\n",
    "    num_rows_with_na = df_station.isna().any(axis=1).sum()\n",
    "    print(f\"\\nThe station {station_name} has {num_rows_with_na} rows with at least one NA value out of {df_station.shape[0]} rows.\")\n",
    "    #df_station[\"DATA\"] = pd.to_datetime(df_station[\"DATA\"])\n",
    "    print(f\"Data from {df_station['DATA'].min()} to {df_station['DATA'].max()}\")\n",
    "    \n",
    "\n",
    "    print(df_station['CONTAMINANT'].unique())"
   ]
  },
  {
   "cell_type": "code",
   "execution_count": 42,
   "metadata": {},
   "outputs": [
    {
     "name": "stdout",
     "output_type": "stream",
     "text": [
      "Barcelona (Parc Vall Hebron)\n",
      "\n",
      "The station Barcelona (Parc Vall Hebron) has 9937 rows with at least one NA value out of 36792 rows.\n",
      "Data from 2008-01-01 00:00:00 to 2024-03-07 00:00:00\n",
      "['NOX' 'NO' 'CO' 'NO2' 'SO2' 'PM10' 'O3']\n",
      "Barcelona (Ciutadella)\n",
      "\n",
      "The station Barcelona (Ciutadella) has 4538 rows with at least one NA value out of 31082 rows.\n",
      "Data from 2004-04-23 00:00:00 to 2024-03-07 00:00:00\n",
      "['NO2' 'NOX' 'NO' 'O3' 'CO' 'SO2']\n",
      "Barcelona (Eixample)\n",
      "\n",
      "The station Barcelona (Eixample) has 13417 rows with at least one NA value out of 54407 rows.\n",
      "Data from 1996-01-01 00:00:00 to 2024-03-07 00:00:00\n",
      "['PM10' 'O3' 'SO2' 'NO' 'PM2.5' 'CO' 'NO2' 'NOX' 'H2S']\n",
      "Barcelona (Palau Reial)\n",
      "\n",
      "The station Barcelona (Palau Reial) has 7027 rows with at least one NA value out of 31881 rows.\n",
      "Data from 2011-03-17 00:00:00 to 2024-03-07 00:00:00\n",
      "['CO' 'O3' 'PM2.5' 'NO2' 'SO2' 'NO' 'PM10' 'NOX']\n",
      "Barcelona (Poblenou)\n",
      "\n",
      "The station Barcelona (Poblenou) has 12641 rows with at least one NA value out of 50992 rows.\n",
      "Data from 1991-01-01 00:00:00 to 2024-03-07 00:00:00\n",
      "['NO' 'NOX' 'NO2' 'PM10' 'SO2' 'O3' 'CO' 'PM2.5']\n",
      "Barcelona (Gràcia - Sant Gervasi)\n",
      "\n",
      "The station Barcelona (Gràcia - Sant Gervasi) has 12951 rows with at least one NA value out of 56624 rows.\n",
      "Data from 1997-11-04 00:00:00 to 2024-03-07 00:00:00\n",
      "['SO2' 'NO2' 'O3' 'NOX' 'NO' 'PM10' 'CO' 'H2S' 'PM2.5']\n",
      "Barcelona (Observatori Fabra)\n",
      "\n",
      "The station Barcelona (Observatori Fabra) has 3026 rows with at least one NA value out of 10707 rows.\n",
      "Data from 2018-03-09 00:00:00 to 2024-03-07 00:00:00\n",
      "['NO' 'O3' 'PM10' 'NO2' 'NOX']\n",
      "Barcelona (Sants)\n",
      "\n",
      "The station Barcelona (Sants) has 6127 rows with at least one NA value out of 38864 rows.\n",
      "Data from 1994-05-13 00:00:00 to 2024-03-07 00:00:00\n",
      "['NO2' 'NO' 'NOX' 'CO' 'SO2' 'PM10']\n",
      "Barcelona (Torre Girona)\n",
      "\n",
      "The station Barcelona (Torre Girona) has 263 rows with at least one NA value out of 1343 rows.\n",
      "Data from 2010-04-01 00:00:00 to 2011-02-28 00:00:00\n",
      "['NO2' 'SO2' 'CO' 'O3' 'NO']\n",
      "Barcelona (Sagrera)\n",
      "\n",
      "The station Barcelona (Sagrera) has 3958 rows with at least one NA value out of 16733 rows.\n",
      "Data from 1992-04-24 00:00:00 to 2001-11-30 00:00:00\n",
      "['NO' 'NO2' 'PM10' 'O3' 'CO' 'SO2' 'PS']\n",
      "Barcelona (St. Gervasi)\n",
      "\n",
      "The station Barcelona (St. Gervasi) has 5238 rows with at least one NA value out of 13793 rows.\n",
      "Data from 1991-01-02 00:00:00 to 1997-11-04 00:00:00\n",
      "['NO' 'NO2' 'PS' 'O3' 'CO' 'SO2' 'HCT' 'HCNM']\n"
     ]
    }
   ],
   "source": [
    "\n",
    "bcn_stations=['Barcelona (Parc Vall Hebron)','Barcelona (Ciutadella)','Barcelona (Eixample)','Barcelona (Palau Reial)','Barcelona (Poblenou)','Barcelona (Gràcia - Sant Gervasi)','Barcelona (Observatori Fabra)','Barcelona (Sants)','Barcelona (Torre Girona)','Barcelona (Sagrera)','Barcelona (St. Gervasi)']\n",
    "for s in bcn_stations:\n",
    "    print(s)\n",
    "    station_checker1(df_barcelona,s)"
   ]
  }
 ],
 "metadata": {
  "kernelspec": {
   "display_name": "base",
   "language": "python",
   "name": "python3"
  },
  "language_info": {
   "codemirror_mode": {
    "name": "ipython",
    "version": 3
   },
   "file_extension": ".py",
   "mimetype": "text/x-python",
   "name": "python",
   "nbconvert_exporter": "python",
   "pygments_lexer": "ipython3",
   "version": "3.8.3"
  }
 },
 "nbformat": 4,
 "nbformat_minor": 2
}
