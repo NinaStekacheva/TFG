{
 "cells": [
  {
   "cell_type": "code",
   "execution_count": 96,
   "metadata": {},
   "outputs": [
    {
     "data": {
      "text/html": [
       "Finishing last run (ID:5avte414) before initializing another..."
      ],
      "text/plain": [
       "<IPython.core.display.HTML object>"
      ]
     },
     "metadata": {},
     "output_type": "display_data"
    },
    {
     "data": {
      "text/html": [
       "Waiting for W&B process to finish... <strong style=\"color:green\">(success).</strong>"
      ],
      "text/plain": [
       "<IPython.core.display.HTML object>"
      ]
     },
     "metadata": {},
     "output_type": "display_data"
    },
    {
     "data": {
      "application/vnd.jupyter.widget-view+json": {
       "model_id": "2177627660164497bd6ec0364e886a6f",
       "version_major": 2,
       "version_minor": 0
      },
      "text/plain": [
       "VBox(children=(Label(value='4.746 MB of 4.746 MB uploaded (0.013 MB deduped)\\r'), FloatProgress(value=1.0, max…"
      ]
     },
     "metadata": {},
     "output_type": "display_data"
    },
    {
     "data": {
      "text/html": [
       "<style>\n",
       "    table.wandb td:nth-child(1) { padding: 0 10px; text-align: left ; width: auto;} td:nth-child(2) {text-align: left ; width: 100%}\n",
       "    .wandb-row { display: flex; flex-direction: row; flex-wrap: wrap; justify-content: flex-start; width: 100% }\n",
       "    .wandb-col { display: flex; flex-direction: column; flex-basis: 100%; flex: 1; padding: 10px; }\n",
       "    </style>\n",
       "<div class=\"wandb-row\"><div class=\"wandb-col\"><h3>Run history:</h3><br/><table class=\"wandb\"><tr><td>epoch</td><td>▁▁▁▁▂▂▂▂▂▃▃▃▃▃▃▄▄▄▄▄▅▅▅▅▅▅▆▆▆▆▆▆▇▇▇▇▇███</td></tr><tr><td>loss</td><td>▇██▇▆▆▇▆▆▅▅▄▅▅▅▄▄▅▄▄▃▄▅▃▅▃▂▂▂▃▃▂▂▁▃▁▁▃▃▁</td></tr><tr><td>val_loss</td><td>▆▁▃▃▄▇▂▃▄▄▅▄▄▇▅▆▆▆▅▄▄▄▆▆▅▅▆▅▆▆▄▅█▇▆█▆▆▇▅</td></tr></table><br/></div><div class=\"wandb-col\"><h3>Run summary:</h3><br/><table class=\"wandb\"><tr><td>best_epoch</td><td>1</td></tr><tr><td>best_val_loss</td><td>0.01203</td></tr><tr><td>epoch</td><td>49</td></tr><tr><td>loss</td><td>0.01189</td></tr><tr><td>val_loss</td><td>0.01336</td></tr></table><br/></div></div>"
      ],
      "text/plain": [
       "<IPython.core.display.HTML object>"
      ]
     },
     "metadata": {},
     "output_type": "display_data"
    },
    {
     "data": {
      "text/html": [
       " View run <strong style=\"color:#cdcd00\">faithful-grass-1</strong> at: <a href='https://wandb.ai/nina_stekacheva/LSTM%20training/runs/5avte414' target=\"_blank\">https://wandb.ai/nina_stekacheva/LSTM%20training/runs/5avte414</a><br/>Synced 6 W&B file(s), 1 media file(s), 10 artifact file(s) and 1 other file(s)"
      ],
      "text/plain": [
       "<IPython.core.display.HTML object>"
      ]
     },
     "metadata": {},
     "output_type": "display_data"
    },
    {
     "data": {
      "text/html": [
       "Find logs at: <code>.\\wandb\\run-20240606_011255-5avte414\\logs</code>"
      ],
      "text/plain": [
       "<IPython.core.display.HTML object>"
      ]
     },
     "metadata": {},
     "output_type": "display_data"
    },
    {
     "data": {
      "text/html": [
       "Successfully finished last run (ID:5avte414). Initializing new run:<br/>"
      ],
      "text/plain": [
       "<IPython.core.display.HTML object>"
      ]
     },
     "metadata": {},
     "output_type": "display_data"
    },
    {
     "data": {
      "text/html": [
       "wandb version 0.17.0 is available!  To upgrade, please run:\n",
       " $ pip install wandb --upgrade"
      ],
      "text/plain": [
       "<IPython.core.display.HTML object>"
      ]
     },
     "metadata": {},
     "output_type": "display_data"
    },
    {
     "data": {
      "text/html": [
       "Tracking run with wandb version 0.15.3"
      ],
      "text/plain": [
       "<IPython.core.display.HTML object>"
      ]
     },
     "metadata": {},
     "output_type": "display_data"
    },
    {
     "data": {
      "text/html": [
       "Run data is saved locally in <code>c:\\Users\\ninab\\OneDrive\\Escritorio\\UAB\\TFG\\TFG_repo\\wandb\\run-20240606_174143-phiqw74e</code>"
      ],
      "text/plain": [
       "<IPython.core.display.HTML object>"
      ]
     },
     "metadata": {},
     "output_type": "display_data"
    },
    {
     "data": {
      "text/html": [
       "Syncing run <strong><a href='https://wandb.ai/nina_stekacheva/LSTM%20training/runs/phiqw74e' target=\"_blank\">valiant-universe-3</a></strong> to <a href='https://wandb.ai/nina_stekacheva/LSTM%20training' target=\"_blank\">Weights & Biases</a> (<a href='https://wandb.me/run' target=\"_blank\">docs</a>)<br/>"
      ],
      "text/plain": [
       "<IPython.core.display.HTML object>"
      ]
     },
     "metadata": {},
     "output_type": "display_data"
    },
    {
     "data": {
      "text/html": [
       " View project at <a href='https://wandb.ai/nina_stekacheva/LSTM%20training' target=\"_blank\">https://wandb.ai/nina_stekacheva/LSTM%20training</a>"
      ],
      "text/plain": [
       "<IPython.core.display.HTML object>"
      ]
     },
     "metadata": {},
     "output_type": "display_data"
    },
    {
     "data": {
      "text/html": [
       " View run at <a href='https://wandb.ai/nina_stekacheva/LSTM%20training/runs/phiqw74e' target=\"_blank\">https://wandb.ai/nina_stekacheva/LSTM%20training/runs/phiqw74e</a>"
      ],
      "text/plain": [
       "<IPython.core.display.HTML object>"
      ]
     },
     "metadata": {},
     "output_type": "display_data"
    },
    {
     "data": {
      "text/html": [
       "<button onClick=\"this.nextSibling.style.display='block';this.style.display='none';\">Display W&B run</button><iframe src='https://wandb.ai/nina_stekacheva/LSTM%20training/runs/phiqw74e?jupyter=true' style='border:none;width:100%;height:420px;display:none;'></iframe>"
      ],
      "text/plain": [
       "<wandb.sdk.wandb_run.Run at 0x176ebd70610>"
      ]
     },
     "execution_count": 96,
     "metadata": {},
     "output_type": "execute_result"
    }
   ],
   "source": [
    "import numpy as np\n",
    "import pandas as pd\n",
    "from keras.models import Sequential\n",
    "from keras.layers import LSTM, Dense, Dropout, Bidirectional\n",
    "from sklearn.preprocessing import MinMaxScaler\n",
    "import matplotlib.pyplot as plt\n",
    "from keras.regularizers import l2\n",
    "import wandb\n",
    "from wandb.keras import WandbCallback\n",
    "from keras.losses import MeanSquaredError\n",
    "from keras.metrics import RootMeanSquaredError\n",
    "from keras.optimizers import Adam\n",
    "\n",
    "# Inicializar un nuevo experimento en Weights & Biases\n",
    "#wandb.init(project='LSTM training' )\n",
    "\n"
   ]
  },
  {
   "cell_type": "code",
   "execution_count": 94,
   "metadata": {},
   "outputs": [
    {
     "name": "stderr",
     "output_type": "stream",
     "text": [
      "wandb: WARNING The save_model argument by default saves the model in the HDF5 format that cannot save custom objects like subclassed models and custom layers. This behavior will be deprecated in a future release in favor of the SavedModel format. Meanwhile, the HDF5 model is saved as W&B files and the SavedModel as W&B Artifacts.\n"
     ]
    }
   ],
   "source": [
    "wandbcallback = WandbCallback()"
   ]
  },
  {
   "cell_type": "code",
   "execution_count": 112,
   "metadata": {},
   "outputs": [],
   "source": [
    "\n",
    "station_columns = [\n",
    "    'station_Barcelona (Ciutadella)', 'station_Barcelona (Eixample)',\n",
    "    'station_Barcelona (Gràcia - Sant Gervasi)', 'station_Barcelona (Observatori Fabra)',\n",
    "    'station_Barcelona (Palau Reial)', 'station_Barcelona (Parc Vall Hebron)',\n",
    "    'station_Barcelona (Poblenou)', 'station_Barcelona (Sants)'\n",
    "]"
   ]
  },
  {
   "cell_type": "code",
   "execution_count": 121,
   "metadata": {},
   "outputs": [],
   "source": [
    "# Cargar datos\n",
    "data = pd.read_csv('imputed_data.csv', parse_dates=['Date_time'], index_col='Date_time')\n",
    "\n",
    "# Supongamos que quieres predecir PM10, usaremos NO, NO2, NOX, O3 como features\n",
    "#data=data[data['station_Barcelona (Eixample)'] == 1]\n",
    "features = data[ station_columns]\n",
    "target = data['NO2']\n",
    "\n",
    "# Normalizar los datos\n",
    "scaler = MinMaxScaler(feature_range=(0, 1))\n",
    "features_scaled = scaler.fit_transform(features)\n",
    "target_scaled = scaler.fit_transform(target.values.reshape(-1,1))\n",
    "\n",
    "# Crear secuencias para la entrada en LSTM\n",
    "def create_dataset(X, y, time_steps=1):\n",
    "    Xs, ys = [], []\n",
    "    for i in range(len(X) - time_steps):\n",
    "        Xs.append(X[i:(i + time_steps), :])\n",
    "        ys.append(y[i + time_steps])\n",
    "    return np.array(Xs), np.array(ys)\n",
    "\n",
    "time_steps = 5\n",
    "X, y = create_dataset(features_scaled, target_scaled, time_steps)\n"
   ]
  },
  {
   "cell_type": "code",
   "execution_count": 115,
   "metadata": {},
   "outputs": [
    {
     "name": "stdout",
     "output_type": "stream",
     "text": [
      "109.3913043478261\n"
     ]
    }
   ],
   "source": [
    "print(target.max())"
   ]
  },
  {
   "cell_type": "code",
   "execution_count": 122,
   "metadata": {},
   "outputs": [],
   "source": [
    "model = Sequential()\n",
    "model.add(Bidirectional(LSTM(50, activation='relu', input_shape=(X.shape[1], X.shape[2]))))\n",
    "model.add(Dense(8, 'relu'))\n",
    "model.add(Dense(1, 'linear'))\n",
    "#model.compile(optimizer='adam', loss='mean_squared_error')\n",
    "model.compile(loss=MeanSquaredError(), optimizer=Adam(learning_rate=0.0001), metrics=[RootMeanSquaredError()])\n"
   ]
  },
  {
   "cell_type": "code",
   "execution_count": 48,
   "metadata": {},
   "outputs": [],
   "source": [
    "#VA FATAL\n",
    "# model = Sequential()\n",
    "# # Primera capa LSTM con regularización L2 y retorno de secuencias para apilar otra capa LSTM\n",
    "# model.add(LSTM(100, activation='relu', return_sequences=True, input_shape=(X.shape[1], X.shape[2]), kernel_regularizer=l2(0.01)))\n",
    "# model.add(Dropout(0.2))  # Añadir dropout para reducir el sobreajuste\n",
    "\n",
    "# # Segunda capa LSTM\n",
    "# model.add(LSTM(50, activation='relu', return_sequences=False, kernel_regularizer=l2(0.01)))\n",
    "# model.add(Dropout(0.2))  # Añadir dropout para reducir el sobreajuste\n",
    "\n",
    "# # Capa de salida\n",
    "# model.add(Dense(1))\n",
    "\n",
    "# # Compilación del modelo\n",
    "# model.compile(optimizer='adam', loss='mean_squared_error')"
   ]
  },
  {
   "cell_type": "code",
   "execution_count": 123,
   "metadata": {},
   "outputs": [
    {
     "name": "stdout",
     "output_type": "stream",
     "text": [
      "Epoch 1/100\n",
      "731/731 [==============================] - 9s 8ms/step - loss: 0.0191 - root_mean_squared_error: 0.1381 - val_loss: 0.0126 - val_root_mean_squared_error: 0.1120\n",
      "Epoch 2/100\n",
      "731/731 [==============================] - 5s 7ms/step - loss: 0.0120 - root_mean_squared_error: 0.1096 - val_loss: 0.0126 - val_root_mean_squared_error: 0.1121\n",
      "Epoch 3/100\n",
      "731/731 [==============================] - 6s 8ms/step - loss: 0.0116 - root_mean_squared_error: 0.1075 - val_loss: 0.0126 - val_root_mean_squared_error: 0.1122\n",
      "Epoch 4/100\n",
      "731/731 [==============================] - 6s 8ms/step - loss: 0.0115 - root_mean_squared_error: 0.1072 - val_loss: 0.0126 - val_root_mean_squared_error: 0.1122\n",
      "Epoch 5/100\n",
      "731/731 [==============================] - 6s 9ms/step - loss: 0.0115 - root_mean_squared_error: 0.1072 - val_loss: 0.0125 - val_root_mean_squared_error: 0.1120\n",
      "Epoch 6/100\n",
      "731/731 [==============================] - 7s 9ms/step - loss: 0.0115 - root_mean_squared_error: 0.1072 - val_loss: 0.0125 - val_root_mean_squared_error: 0.1118\n",
      "Epoch 7/100\n",
      "731/731 [==============================] - 9s 12ms/step - loss: 0.0115 - root_mean_squared_error: 0.1072 - val_loss: 0.0124 - val_root_mean_squared_error: 0.1115\n",
      "Epoch 8/100\n",
      "731/731 [==============================] - 7s 9ms/step - loss: 0.0115 - root_mean_squared_error: 0.1073 - val_loss: 0.0124 - val_root_mean_squared_error: 0.1112\n",
      "Epoch 9/100\n",
      "731/731 [==============================] - 8s 11ms/step - loss: 0.0115 - root_mean_squared_error: 0.1073 - val_loss: 0.0123 - val_root_mean_squared_error: 0.1110\n",
      "Epoch 10/100\n",
      "731/731 [==============================] - 7s 10ms/step - loss: 0.0115 - root_mean_squared_error: 0.1074 - val_loss: 0.0123 - val_root_mean_squared_error: 0.1107\n",
      "Epoch 11/100\n",
      "731/731 [==============================] - 7s 9ms/step - loss: 0.0116 - root_mean_squared_error: 0.1075 - val_loss: 0.0122 - val_root_mean_squared_error: 0.1104\n",
      "Epoch 12/100\n",
      "731/731 [==============================] - 8s 10ms/step - loss: 0.0116 - root_mean_squared_error: 0.1076 - val_loss: 0.0121 - val_root_mean_squared_error: 0.1101\n",
      "Epoch 13/100\n",
      "731/731 [==============================] - 7s 10ms/step - loss: 0.0116 - root_mean_squared_error: 0.1076 - val_loss: 0.0121 - val_root_mean_squared_error: 0.1098\n",
      "Epoch 14/100\n",
      "731/731 [==============================] - 7s 10ms/step - loss: 0.0116 - root_mean_squared_error: 0.1077 - val_loss: 0.0120 - val_root_mean_squared_error: 0.1096\n",
      "Epoch 15/100\n",
      "731/731 [==============================] - 7s 10ms/step - loss: 0.0116 - root_mean_squared_error: 0.1077 - val_loss: 0.0119 - val_root_mean_squared_error: 0.1093\n",
      "Epoch 16/100\n",
      "731/731 [==============================] - 7s 10ms/step - loss: 0.0116 - root_mean_squared_error: 0.1078 - val_loss: 0.0119 - val_root_mean_squared_error: 0.1091\n",
      "Epoch 17/100\n",
      "731/731 [==============================] - 7s 10ms/step - loss: 0.0116 - root_mean_squared_error: 0.1078 - val_loss: 0.0118 - val_root_mean_squared_error: 0.1088\n",
      "Epoch 18/100\n",
      "731/731 [==============================] - 8s 11ms/step - loss: 0.0116 - root_mean_squared_error: 0.1079 - val_loss: 0.0118 - val_root_mean_squared_error: 0.1086\n",
      "Epoch 19/100\n",
      "731/731 [==============================] - 7s 10ms/step - loss: 0.0117 - root_mean_squared_error: 0.1079 - val_loss: 0.0118 - val_root_mean_squared_error: 0.1086\n",
      "Epoch 20/100\n",
      "731/731 [==============================] - 7s 10ms/step - loss: 0.0117 - root_mean_squared_error: 0.1080 - val_loss: 0.0117 - val_root_mean_squared_error: 0.1083\n",
      "Epoch 21/100\n",
      "731/731 [==============================] - 8s 11ms/step - loss: 0.0117 - root_mean_squared_error: 0.1080 - val_loss: 0.0117 - val_root_mean_squared_error: 0.1083\n",
      "Epoch 22/100\n",
      "731/731 [==============================] - 9s 12ms/step - loss: 0.0117 - root_mean_squared_error: 0.1080 - val_loss: 0.0117 - val_root_mean_squared_error: 0.1080\n",
      "Epoch 23/100\n",
      "731/731 [==============================] - 8s 11ms/step - loss: 0.0117 - root_mean_squared_error: 0.1081 - val_loss: 0.0116 - val_root_mean_squared_error: 0.1078\n",
      "Epoch 24/100\n",
      "731/731 [==============================] - 7s 10ms/step - loss: 0.0117 - root_mean_squared_error: 0.1081 - val_loss: 0.0116 - val_root_mean_squared_error: 0.1077\n",
      "Epoch 25/100\n",
      "731/731 [==============================] - 8s 10ms/step - loss: 0.0117 - root_mean_squared_error: 0.1082 - val_loss: 0.0116 - val_root_mean_squared_error: 0.1076\n",
      "Epoch 26/100\n",
      "731/731 [==============================] - 8s 11ms/step - loss: 0.0117 - root_mean_squared_error: 0.1082 - val_loss: 0.0115 - val_root_mean_squared_error: 0.1074\n",
      "Epoch 27/100\n",
      "731/731 [==============================] - 8s 10ms/step - loss: 0.0117 - root_mean_squared_error: 0.1082 - val_loss: 0.0115 - val_root_mean_squared_error: 0.1073\n",
      "Epoch 28/100\n",
      "731/731 [==============================] - 7s 10ms/step - loss: 0.0117 - root_mean_squared_error: 0.1082 - val_loss: 0.0115 - val_root_mean_squared_error: 0.1072\n",
      "Epoch 29/100\n",
      "731/731 [==============================] - 7s 10ms/step - loss: 0.0117 - root_mean_squared_error: 0.1083 - val_loss: 0.0115 - val_root_mean_squared_error: 0.1071\n",
      "Epoch 30/100\n",
      "731/731 [==============================] - 7s 10ms/step - loss: 0.0117 - root_mean_squared_error: 0.1083 - val_loss: 0.0114 - val_root_mean_squared_error: 0.1070\n",
      "Epoch 31/100\n",
      "731/731 [==============================] - 7s 9ms/step - loss: 0.0117 - root_mean_squared_error: 0.1083 - val_loss: 0.0114 - val_root_mean_squared_error: 0.1069\n",
      "Epoch 32/100\n",
      "731/731 [==============================] - 7s 10ms/step - loss: 0.0117 - root_mean_squared_error: 0.1083 - val_loss: 0.0114 - val_root_mean_squared_error: 0.1067\n",
      "Epoch 33/100\n",
      "731/731 [==============================] - 8s 10ms/step - loss: 0.0117 - root_mean_squared_error: 0.1084 - val_loss: 0.0114 - val_root_mean_squared_error: 0.1068\n",
      "Epoch 34/100\n",
      "731/731 [==============================] - 7s 10ms/step - loss: 0.0117 - root_mean_squared_error: 0.1084 - val_loss: 0.0114 - val_root_mean_squared_error: 0.1066\n",
      "Epoch 35/100\n",
      "731/731 [==============================] - 7s 10ms/step - loss: 0.0118 - root_mean_squared_error: 0.1084 - val_loss: 0.0114 - val_root_mean_squared_error: 0.1066\n",
      "Epoch 36/100\n",
      "731/731 [==============================] - 7s 10ms/step - loss: 0.0118 - root_mean_squared_error: 0.1084 - val_loss: 0.0113 - val_root_mean_squared_error: 0.1064\n",
      "Epoch 37/100\n",
      "731/731 [==============================] - 7s 10ms/step - loss: 0.0118 - root_mean_squared_error: 0.1085 - val_loss: 0.0113 - val_root_mean_squared_error: 0.1063\n",
      "Epoch 38/100\n",
      "731/731 [==============================] - 8s 11ms/step - loss: 0.0118 - root_mean_squared_error: 0.1085 - val_loss: 0.0113 - val_root_mean_squared_error: 0.1062\n",
      "Epoch 39/100\n",
      "731/731 [==============================] - 7s 10ms/step - loss: 0.0118 - root_mean_squared_error: 0.1085 - val_loss: 0.0113 - val_root_mean_squared_error: 0.1062\n",
      "Epoch 40/100\n",
      "731/731 [==============================] - 7s 10ms/step - loss: 0.0118 - root_mean_squared_error: 0.1085 - val_loss: 0.0113 - val_root_mean_squared_error: 0.1061\n",
      "Epoch 41/100\n",
      "731/731 [==============================] - 8s 10ms/step - loss: 0.0118 - root_mean_squared_error: 0.1085 - val_loss: 0.0112 - val_root_mean_squared_error: 0.1060\n",
      "Epoch 42/100\n",
      "731/731 [==============================] - 8s 10ms/step - loss: 0.0118 - root_mean_squared_error: 0.1085 - val_loss: 0.0112 - val_root_mean_squared_error: 0.1060\n",
      "Epoch 43/100\n",
      "731/731 [==============================] - 7s 10ms/step - loss: 0.0118 - root_mean_squared_error: 0.1086 - val_loss: 0.0112 - val_root_mean_squared_error: 0.1059\n",
      "Epoch 44/100\n",
      "731/731 [==============================] - 7s 10ms/step - loss: 0.0118 - root_mean_squared_error: 0.1086 - val_loss: 0.0112 - val_root_mean_squared_error: 0.1058\n",
      "Epoch 45/100\n",
      "731/731 [==============================] - 8s 11ms/step - loss: 0.0118 - root_mean_squared_error: 0.1086 - val_loss: 0.0112 - val_root_mean_squared_error: 0.1058\n",
      "Epoch 46/100\n",
      "731/731 [==============================] - 8s 10ms/step - loss: 0.0118 - root_mean_squared_error: 0.1086 - val_loss: 0.0112 - val_root_mean_squared_error: 0.1057\n",
      "Epoch 47/100\n",
      "731/731 [==============================] - 8s 11ms/step - loss: 0.0118 - root_mean_squared_error: 0.1086 - val_loss: 0.0112 - val_root_mean_squared_error: 0.1056\n",
      "Epoch 48/100\n",
      "731/731 [==============================] - 7s 10ms/step - loss: 0.0118 - root_mean_squared_error: 0.1086 - val_loss: 0.0111 - val_root_mean_squared_error: 0.1056\n",
      "Epoch 49/100\n",
      "731/731 [==============================] - 7s 10ms/step - loss: 0.0118 - root_mean_squared_error: 0.1087 - val_loss: 0.0111 - val_root_mean_squared_error: 0.1055\n",
      "Epoch 50/100\n",
      "731/731 [==============================] - 7s 10ms/step - loss: 0.0118 - root_mean_squared_error: 0.1087 - val_loss: 0.0111 - val_root_mean_squared_error: 0.1054\n",
      "Epoch 51/100\n",
      "731/731 [==============================] - 7s 10ms/step - loss: 0.0118 - root_mean_squared_error: 0.1087 - val_loss: 0.0111 - val_root_mean_squared_error: 0.1054\n",
      "Epoch 52/100\n",
      "731/731 [==============================] - 8s 10ms/step - loss: 0.0118 - root_mean_squared_error: 0.1087 - val_loss: 0.0111 - val_root_mean_squared_error: 0.1053\n",
      "Epoch 53/100\n",
      "731/731 [==============================] - 7s 10ms/step - loss: 0.0118 - root_mean_squared_error: 0.1087 - val_loss: 0.0111 - val_root_mean_squared_error: 0.1053\n",
      "Epoch 54/100\n",
      "731/731 [==============================] - 7s 10ms/step - loss: 0.0118 - root_mean_squared_error: 0.1087 - val_loss: 0.0111 - val_root_mean_squared_error: 0.1052\n",
      "Epoch 55/100\n",
      "731/731 [==============================] - 7s 9ms/step - loss: 0.0118 - root_mean_squared_error: 0.1087 - val_loss: 0.0111 - val_root_mean_squared_error: 0.1052\n",
      "Epoch 56/100\n",
      "731/731 [==============================] - 9s 12ms/step - loss: 0.0118 - root_mean_squared_error: 0.1087 - val_loss: 0.0111 - val_root_mean_squared_error: 0.1051\n",
      "Epoch 57/100\n",
      "731/731 [==============================] - 8s 11ms/step - loss: 0.0118 - root_mean_squared_error: 0.1088 - val_loss: 0.0110 - val_root_mean_squared_error: 0.1051\n",
      "Epoch 58/100\n",
      "731/731 [==============================] - 7s 10ms/step - loss: 0.0118 - root_mean_squared_error: 0.1088 - val_loss: 0.0110 - val_root_mean_squared_error: 0.1050\n",
      "Epoch 59/100\n",
      "731/731 [==============================] - 7s 10ms/step - loss: 0.0118 - root_mean_squared_error: 0.1088 - val_loss: 0.0110 - val_root_mean_squared_error: 0.1050\n",
      "Epoch 60/100\n",
      "731/731 [==============================] - 7s 10ms/step - loss: 0.0118 - root_mean_squared_error: 0.1088 - val_loss: 0.0110 - val_root_mean_squared_error: 0.1050\n",
      "Epoch 61/100\n",
      "731/731 [==============================] - 11s 15ms/step - loss: 0.0118 - root_mean_squared_error: 0.1088 - val_loss: 0.0110 - val_root_mean_squared_error: 0.1049\n",
      "Epoch 62/100\n",
      "731/731 [==============================] - 10s 14ms/step - loss: 0.0118 - root_mean_squared_error: 0.1088 - val_loss: 0.0110 - val_root_mean_squared_error: 0.1049\n",
      "Epoch 63/100\n",
      "731/731 [==============================] - 9s 12ms/step - loss: 0.0118 - root_mean_squared_error: 0.1088 - val_loss: 0.0110 - val_root_mean_squared_error: 0.1049\n",
      "Epoch 64/100\n",
      "731/731 [==============================] - 8s 11ms/step - loss: 0.0118 - root_mean_squared_error: 0.1088 - val_loss: 0.0110 - val_root_mean_squared_error: 0.1048\n",
      "Epoch 65/100\n",
      "731/731 [==============================] - 8s 11ms/step - loss: 0.0118 - root_mean_squared_error: 0.1088 - val_loss: 0.0110 - val_root_mean_squared_error: 0.1048\n",
      "Epoch 66/100\n",
      "731/731 [==============================] - 7s 10ms/step - loss: 0.0118 - root_mean_squared_error: 0.1088 - val_loss: 0.0110 - val_root_mean_squared_error: 0.1048\n",
      "Epoch 67/100\n",
      "731/731 [==============================] - 10s 13ms/step - loss: 0.0118 - root_mean_squared_error: 0.1088 - val_loss: 0.0110 - val_root_mean_squared_error: 0.1047\n",
      "Epoch 68/100\n",
      "731/731 [==============================] - 8s 12ms/step - loss: 0.0118 - root_mean_squared_error: 0.1088 - val_loss: 0.0110 - val_root_mean_squared_error: 0.1047\n",
      "Epoch 69/100\n",
      "731/731 [==============================] - 8s 10ms/step - loss: 0.0118 - root_mean_squared_error: 0.1089 - val_loss: 0.0110 - val_root_mean_squared_error: 0.1047\n",
      "Epoch 70/100\n",
      "731/731 [==============================] - 7s 10ms/step - loss: 0.0119 - root_mean_squared_error: 0.1089 - val_loss: 0.0109 - val_root_mean_squared_error: 0.1046\n",
      "Epoch 71/100\n",
      "731/731 [==============================] - 7s 10ms/step - loss: 0.0119 - root_mean_squared_error: 0.1089 - val_loss: 0.0109 - val_root_mean_squared_error: 0.1046\n",
      "Epoch 72/100\n",
      "731/731 [==============================] - 9s 12ms/step - loss: 0.0119 - root_mean_squared_error: 0.1089 - val_loss: 0.0109 - val_root_mean_squared_error: 0.1046\n",
      "Epoch 73/100\n",
      "731/731 [==============================] - 7s 10ms/step - loss: 0.0118 - root_mean_squared_error: 0.1088 - val_loss: 0.0114 - val_root_mean_squared_error: 0.1066\n",
      "Epoch 74/100\n",
      "731/731 [==============================] - 8s 10ms/step - loss: 0.0118 - root_mean_squared_error: 0.1087 - val_loss: 0.0110 - val_root_mean_squared_error: 0.1047\n",
      "Epoch 75/100\n",
      "731/731 [==============================] - 8s 10ms/step - loss: 0.0118 - root_mean_squared_error: 0.1088 - val_loss: 0.0110 - val_root_mean_squared_error: 0.1047\n",
      "Epoch 76/100\n",
      "731/731 [==============================] - 8s 12ms/step - loss: 0.0119 - root_mean_squared_error: 0.1089 - val_loss: 0.0109 - val_root_mean_squared_error: 0.1046\n",
      "Epoch 77/100\n",
      "731/731 [==============================] - 8s 11ms/step - loss: 0.0119 - root_mean_squared_error: 0.1089 - val_loss: 0.0109 - val_root_mean_squared_error: 0.1046\n",
      "Epoch 78/100\n",
      "731/731 [==============================] - 8s 10ms/step - loss: 0.0119 - root_mean_squared_error: 0.1089 - val_loss: 0.0109 - val_root_mean_squared_error: 0.1045\n",
      "Epoch 79/100\n",
      "731/731 [==============================] - 8s 11ms/step - loss: 0.0119 - root_mean_squared_error: 0.1089 - val_loss: 0.0109 - val_root_mean_squared_error: 0.1045\n",
      "Epoch 80/100\n",
      "731/731 [==============================] - 7s 10ms/step - loss: 0.0119 - root_mean_squared_error: 0.1089 - val_loss: 0.0109 - val_root_mean_squared_error: 0.1045\n",
      "Epoch 81/100\n",
      "731/731 [==============================] - 9s 12ms/step - loss: 0.0119 - root_mean_squared_error: 0.1089 - val_loss: 0.0109 - val_root_mean_squared_error: 0.1044\n",
      "Epoch 82/100\n",
      "731/731 [==============================] - 8s 11ms/step - loss: 0.0119 - root_mean_squared_error: 0.1089 - val_loss: 0.0109 - val_root_mean_squared_error: 0.1044\n",
      "Epoch 83/100\n",
      "731/731 [==============================] - 7s 10ms/step - loss: 0.0119 - root_mean_squared_error: 0.1089 - val_loss: 0.0109 - val_root_mean_squared_error: 0.1044\n",
      "Epoch 84/100\n",
      "731/731 [==============================] - 8s 11ms/step - loss: 0.0119 - root_mean_squared_error: 0.1090 - val_loss: 0.0109 - val_root_mean_squared_error: 0.1044\n",
      "Epoch 85/100\n",
      "731/731 [==============================] - 7s 10ms/step - loss: 0.0118 - root_mean_squared_error: 0.1086 - val_loss: 0.0112 - val_root_mean_squared_error: 0.1059\n",
      "Epoch 86/100\n",
      "731/731 [==============================] - 8s 10ms/step - loss: 0.0118 - root_mean_squared_error: 0.1087 - val_loss: 0.0110 - val_root_mean_squared_error: 0.1048\n",
      "Epoch 87/100\n",
      "731/731 [==============================] - 8s 11ms/step - loss: 0.0118 - root_mean_squared_error: 0.1088 - val_loss: 0.0110 - val_root_mean_squared_error: 0.1048\n",
      "Epoch 88/100\n",
      "731/731 [==============================] - 7s 10ms/step - loss: 0.0118 - root_mean_squared_error: 0.1088 - val_loss: 0.0110 - val_root_mean_squared_error: 0.1049\n",
      "Epoch 89/100\n",
      "731/731 [==============================] - 7s 10ms/step - loss: 0.0118 - root_mean_squared_error: 0.1088 - val_loss: 0.0110 - val_root_mean_squared_error: 0.1047\n",
      "Epoch 90/100\n",
      "731/731 [==============================] - 8s 11ms/step - loss: 0.0119 - root_mean_squared_error: 0.1089 - val_loss: 0.0110 - val_root_mean_squared_error: 0.1049\n",
      "Epoch 91/100\n",
      "731/731 [==============================] - 7s 10ms/step - loss: 0.0118 - root_mean_squared_error: 0.1089 - val_loss: 0.0110 - val_root_mean_squared_error: 0.1047\n",
      "Epoch 92/100\n",
      "731/731 [==============================] - 7s 10ms/step - loss: 0.0119 - root_mean_squared_error: 0.1089 - val_loss: 0.0110 - val_root_mean_squared_error: 0.1047\n",
      "Epoch 93/100\n",
      "731/731 [==============================] - 7s 10ms/step - loss: 0.0119 - root_mean_squared_error: 0.1089 - val_loss: 0.0110 - val_root_mean_squared_error: 0.1047\n",
      "Epoch 94/100\n",
      "731/731 [==============================] - 7s 10ms/step - loss: 0.0119 - root_mean_squared_error: 0.1089 - val_loss: 0.0109 - val_root_mean_squared_error: 0.1045\n",
      "Epoch 95/100\n",
      "731/731 [==============================] - 8s 10ms/step - loss: 0.0119 - root_mean_squared_error: 0.1089 - val_loss: 0.0109 - val_root_mean_squared_error: 0.1045\n",
      "Epoch 96/100\n",
      "731/731 [==============================] - 7s 10ms/step - loss: 0.0119 - root_mean_squared_error: 0.1089 - val_loss: 0.0109 - val_root_mean_squared_error: 0.1045\n",
      "Epoch 97/100\n",
      "731/731 [==============================] - 9s 12ms/step - loss: 0.0119 - root_mean_squared_error: 0.1089 - val_loss: 0.0109 - val_root_mean_squared_error: 0.1042\n",
      "Epoch 98/100\n",
      "731/731 [==============================] - 8s 11ms/step - loss: 0.0119 - root_mean_squared_error: 0.1089 - val_loss: 0.0110 - val_root_mean_squared_error: 0.1047\n",
      "Epoch 99/100\n",
      "731/731 [==============================] - 8s 10ms/step - loss: 0.0119 - root_mean_squared_error: 0.1089 - val_loss: 0.0109 - val_root_mean_squared_error: 0.1042\n",
      "Epoch 100/100\n",
      "731/731 [==============================] - 10s 14ms/step - loss: 0.0119 - root_mean_squared_error: 0.1089 - val_loss: 0.0108 - val_root_mean_squared_error: 0.1041\n"
     ]
    }
   ],
   "source": [
    "# Dividir los datos en entrenamiento y prueba\n",
    "split = int(0.8 * len(X))\n",
    "X_train, X_test = X[:split], X[split:]\n",
    "y_train, y_test = y[:split], y[split:]\n",
    "\n",
    "# Entrenar el modelo\n",
    "history = model.fit(X_train, y_train, epochs=100, batch_size=16, validation_data=(X_test, y_test), verbose=1, shuffle=False, callbacks=[wandbcallback])\n"
   ]
  },
  {
   "cell_type": "code",
   "execution_count": 124,
   "metadata": {},
   "outputs": [
    {
     "name": "stdout",
     "output_type": "stream",
     "text": [
      "92/92 [==============================] - 1s 4ms/step\n",
      "RMSE: 11.244\n"
     ]
    }
   ],
   "source": [
    "# Hacer predicciones\n",
    "y_pred = model.predict(X_test)\n",
    "\n",
    "# Desnormalizar los datos si es necesario y evaluar el modelo\n",
    "y_test_inv = scaler.inverse_transform(y_test)\n",
    "y_pred_inv = scaler.inverse_transform(y_pred)\n",
    "\n",
    "# Calcular métricas de rendimiento, por ejemplo, RMSE\n",
    "from sklearn.metrics import mean_squared_error\n",
    "rmse = np.sqrt(mean_squared_error(y_test_inv, y_pred_inv))\n",
    "print('RMSE: %.3f' % rmse)\n"
   ]
  },
  {
   "cell_type": "code",
   "execution_count": 119,
   "metadata": {},
   "outputs": [
    {
     "data": {
      "image/png": "[encoded data removed]",
      "text/plain": [
       "<Figure size 720x432 with 1 Axes>"
      ]
     },
     "metadata": {
      "needs_background": "light"
     },
     "output_type": "display_data"
    }
   ],
   "source": [
    "\n",
    "# Scatter plot\n",
    "plt.figure(figsize=(10, 6))\n",
    "plt.scatter(y_test_inv, y_pred_inv, alpha=0.5)\n",
    "plt.plot([y_test_inv.min(), y_test_inv.max()], [y_test_inv.min(), y_test_inv.max()], 'r--')  # Diagonal line for reference\n",
    "plt.title(f'Actual vs. Predicted Values for NO2')\n",
    "plt.xlabel('Actual Values')\n",
    "plt.ylabel('Predicted Values')\n",
    "plt.grid(True)\n",
    "#plt.savefig(f\"plot_varma_{station}.png\")\n",
    "plt.show()"
   ]
  },
  {
   "cell_type": "code",
   "execution_count": 85,
   "metadata": {},
   "outputs": [
    {
     "name": "stdout",
     "output_type": "stream",
     "text": [
      "Trial 5 Complete [00h 00m 27s]\n",
      "val_loss: 0.011791128354767958\n",
      "\n",
      "Best val_loss So Far: 0.011791128354767958\n",
      "Total elapsed time: 00h 02m 29s\n"
     ]
    }
   ],
   "source": [
    "import kerastuner as kt\n",
    "from keras.models import Sequential\n",
    "from keras.layers import LSTM, Dense\n",
    "from keras.optimizers import Adam\n",
    "\n",
    "def build_model(hp):\n",
    "    model = Sequential()\n",
    "    model.add(Bidirectional(LSTM(units=hp.Int('units', min_value=50, max_value=200, step=50),\n",
    "                   activation='relu',\n",
    "                   input_shape=(X_train.shape[1], X_train.shape[2]))))\n",
    "    model.add(Dense(1))\n",
    "    model.compile(\n",
    "        optimizer=Adam(hp.Float('learning_rate', min_value=1e-4, max_value=1e-2, sampling='LOG')),\n",
    "        loss='mean_squared_error')\n",
    "    return model\n",
    "\n",
    "tuner = kt.RandomSearch(\n",
    "    build_model,\n",
    "    objective='val_loss',\n",
    "    max_trials=5,  # Número de configuraciones de parámetros para probar\n",
    "    executions_per_trial=3,  # Número de modelos que se deben entrenar y evaluar por prueba\n",
    "    directory='my_dir',\n",
    "    project_name='keras_tuner_lstm')\n",
    "\n",
    "tuner.search(X_train, y_train, epochs=10, validation_data=(X_test, y_test))\n",
    "best_model = tuner.get_best_models(num_models=1)[0]\n",
    "best_hyperparameters = tuner.get_best_hyperparameters()[0]\n"
   ]
  },
  {
   "cell_type": "code",
   "execution_count": 90,
   "metadata": {},
   "outputs": [
    {
     "name": "stdout",
     "output_type": "stream",
     "text": [
      "Mejor tasa de aprendizaje:  0.0076493524681733455\n",
      "Epoch 1/100\n",
      "92/92 [==============================] - 4s 11ms/step - loss: 0.0249 - val_loss: 0.0131\n",
      "Epoch 2/100\n",
      "92/92 [==============================] - 1s 7ms/step - loss: 0.0195 - val_loss: 0.0156\n",
      "Epoch 3/100\n",
      "92/92 [==============================] - 1s 6ms/step - loss: 0.0192 - val_loss: 0.0130\n",
      "Epoch 4/100\n",
      "92/92 [==============================] - 1s 6ms/step - loss: 0.0186 - val_loss: 0.0167\n",
      "Epoch 5/100\n",
      "92/92 [==============================] - 1s 6ms/step - loss: 0.0182 - val_loss: 0.0125\n",
      "Epoch 6/100\n",
      "92/92 [==============================] - 1s 6ms/step - loss: 0.0173 - val_loss: 0.0147\n",
      "Epoch 7/100\n",
      "92/92 [==============================] - 1s 7ms/step - loss: 0.0171 - val_loss: 0.0146\n",
      "Epoch 8/100\n",
      "92/92 [==============================] - 1s 9ms/step - loss: 0.0177 - val_loss: 0.0133\n",
      "Epoch 9/100\n",
      "92/92 [==============================] - 1s 7ms/step - loss: 0.0175 - val_loss: 0.0119\n",
      "Epoch 10/100\n",
      "92/92 [==============================] - 1s 8ms/step - loss: 0.0172 - val_loss: 0.0120\n",
      "Epoch 11/100\n",
      "92/92 [==============================] - 1s 9ms/step - loss: 0.0172 - val_loss: 0.0123\n",
      "Epoch 12/100\n",
      "92/92 [==============================] - 1s 7ms/step - loss: 0.0167 - val_loss: 0.0125\n",
      "Epoch 13/100\n",
      "92/92 [==============================] - 1s 7ms/step - loss: 0.0176 - val_loss: 0.0134\n",
      "Epoch 14/100\n",
      "92/92 [==============================] - 1s 8ms/step - loss: 0.0169 - val_loss: 0.0122\n",
      "Epoch 15/100\n",
      "92/92 [==============================] - 1s 8ms/step - loss: 0.0167 - val_loss: 0.0133\n",
      "Epoch 16/100\n",
      "92/92 [==============================] - 1s 7ms/step - loss: 0.0171 - val_loss: 0.0125\n",
      "Epoch 17/100\n",
      "92/92 [==============================] - 1s 7ms/step - loss: 0.0169 - val_loss: 0.0131\n",
      "Epoch 18/100\n",
      "92/92 [==============================] - 1s 7ms/step - loss: 0.0164 - val_loss: 0.0127\n",
      "Epoch 19/100\n",
      "92/92 [==============================] - 1s 6ms/step - loss: 0.0165 - val_loss: 0.0118\n",
      "Epoch 20/100\n",
      "92/92 [==============================] - 1s 6ms/step - loss: 0.0164 - val_loss: 0.0139\n",
      "Epoch 21/100\n",
      "92/92 [==============================] - 1s 7ms/step - loss: 0.0170 - val_loss: 0.0125\n",
      "Epoch 22/100\n",
      "92/92 [==============================] - 1s 6ms/step - loss: 0.0165 - val_loss: 0.0121\n",
      "Epoch 23/100\n",
      "92/92 [==============================] - 1s 6ms/step - loss: 0.0164 - val_loss: 0.0128\n",
      "Epoch 24/100\n",
      "92/92 [==============================] - 1s 6ms/step - loss: 0.0162 - val_loss: 0.0125\n",
      "Epoch 25/100\n",
      "92/92 [==============================] - 1s 6ms/step - loss: 0.0161 - val_loss: 0.0124\n",
      "Epoch 26/100\n",
      "92/92 [==============================] - 1s 6ms/step - loss: 0.0165 - val_loss: 0.0133\n",
      "Epoch 27/100\n",
      "92/92 [==============================] - 1s 6ms/step - loss: 0.0162 - val_loss: 0.0132\n",
      "Epoch 28/100\n",
      "92/92 [==============================] - 1s 6ms/step - loss: 0.0160 - val_loss: 0.0123\n",
      "Epoch 29/100\n",
      "92/92 [==============================] - 1s 7ms/step - loss: 0.0169 - val_loss: 0.0119\n",
      "Epoch 30/100\n",
      "92/92 [==============================] - 1s 6ms/step - loss: 0.0165 - val_loss: 0.0121\n",
      "Epoch 31/100\n",
      "92/92 [==============================] - 1s 6ms/step - loss: 0.0160 - val_loss: 0.0126\n",
      "Epoch 32/100\n",
      "92/92 [==============================] - 1s 6ms/step - loss: 0.0161 - val_loss: 0.0131\n",
      "Epoch 33/100\n",
      "92/92 [==============================] - 1s 6ms/step - loss: 0.0162 - val_loss: 0.0121\n",
      "Epoch 34/100\n",
      "92/92 [==============================] - 1s 6ms/step - loss: 0.0162 - val_loss: 0.0125\n",
      "Epoch 35/100\n",
      "92/92 [==============================] - 1s 6ms/step - loss: 0.0161 - val_loss: 0.0129\n",
      "Epoch 36/100\n",
      "92/92 [==============================] - 1s 6ms/step - loss: 0.0158 - val_loss: 0.0149\n",
      "Epoch 37/100\n",
      "92/92 [==============================] - 1s 7ms/step - loss: 0.0160 - val_loss: 0.0122\n",
      "Epoch 38/100\n",
      "92/92 [==============================] - 1s 6ms/step - loss: 0.0161 - val_loss: 0.0124\n",
      "Epoch 39/100\n",
      "92/92 [==============================] - 1s 6ms/step - loss: 0.0162 - val_loss: 0.0127\n",
      "Epoch 40/100\n",
      "92/92 [==============================] - 1s 6ms/step - loss: 0.0160 - val_loss: 0.0143\n",
      "Epoch 41/100\n",
      "92/92 [==============================] - 1s 6ms/step - loss: 0.0158 - val_loss: 0.0125\n",
      "Epoch 42/100\n",
      "92/92 [==============================] - 1s 6ms/step - loss: 0.0156 - val_loss: 0.0123\n",
      "Epoch 43/100\n",
      "92/92 [==============================] - 1s 6ms/step - loss: 0.0158 - val_loss: 0.0120\n",
      "Epoch 44/100\n",
      "92/92 [==============================] - 1s 9ms/step - loss: 0.0156 - val_loss: 0.0122\n",
      "Epoch 45/100\n",
      "92/92 [==============================] - 1s 6ms/step - loss: 0.0156 - val_loss: 0.0130\n",
      "Epoch 46/100\n",
      "92/92 [==============================] - 1s 7ms/step - loss: 0.0158 - val_loss: 0.0145\n",
      "Epoch 47/100\n",
      "92/92 [==============================] - 1s 7ms/step - loss: 0.0156 - val_loss: 0.0124\n",
      "Epoch 48/100\n",
      "92/92 [==============================] - 1s 6ms/step - loss: 0.0156 - val_loss: 0.0146\n",
      "Epoch 49/100\n",
      "92/92 [==============================] - 1s 6ms/step - loss: 0.0156 - val_loss: 0.0131\n",
      "Epoch 50/100\n",
      "92/92 [==============================] - 1s 6ms/step - loss: 0.0155 - val_loss: 0.0126\n",
      "Epoch 51/100\n",
      "92/92 [==============================] - 1s 7ms/step - loss: 0.0157 - val_loss: 0.0121\n",
      "Epoch 52/100\n",
      "92/92 [==============================] - 1s 6ms/step - loss: 0.0154 - val_loss: 0.0131\n",
      "Epoch 53/100\n",
      "92/92 [==============================] - 1s 6ms/step - loss: 0.0154 - val_loss: 0.0124\n",
      "Epoch 54/100\n",
      "92/92 [==============================] - 1s 6ms/step - loss: 0.0154 - val_loss: 0.0123\n",
      "Epoch 55/100\n",
      "92/92 [==============================] - 1s 6ms/step - loss: 0.0156 - val_loss: 0.0119\n",
      "Epoch 56/100\n",
      "92/92 [==============================] - 1s 6ms/step - loss: 0.0155 - val_loss: 0.0139\n",
      "Epoch 57/100\n",
      "92/92 [==============================] - 1s 6ms/step - loss: 0.0152 - val_loss: 0.0123\n",
      "Epoch 58/100\n",
      "92/92 [==============================] - 1s 7ms/step - loss: 0.0153 - val_loss: 0.0122\n",
      "Epoch 59/100\n",
      "92/92 [==============================] - 1s 6ms/step - loss: 0.0150 - val_loss: 0.0137\n",
      "Epoch 60/100\n",
      "92/92 [==============================] - 1s 6ms/step - loss: 0.0157 - val_loss: 0.0150\n",
      "Epoch 61/100\n",
      "92/92 [==============================] - 1s 6ms/step - loss: 0.0154 - val_loss: 0.0127\n",
      "Epoch 62/100\n",
      "92/92 [==============================] - 1s 6ms/step - loss: 0.0153 - val_loss: 0.0147\n",
      "Epoch 63/100\n",
      "92/92 [==============================] - 1s 6ms/step - loss: 0.0153 - val_loss: 0.0145\n",
      "Epoch 64/100\n",
      "92/92 [==============================] - 1s 6ms/step - loss: 0.0151 - val_loss: 0.0154\n",
      "Epoch 65/100\n",
      "92/92 [==============================] - 1s 6ms/step - loss: 0.0154 - val_loss: 0.0120\n",
      "Epoch 66/100\n",
      "92/92 [==============================] - 1s 6ms/step - loss: 0.0150 - val_loss: 0.0132\n",
      "Epoch 67/100\n",
      "92/92 [==============================] - 1s 7ms/step - loss: 0.0149 - val_loss: 0.0131\n",
      "Epoch 68/100\n",
      "92/92 [==============================] - 1s 6ms/step - loss: 0.0152 - val_loss: 0.0133\n",
      "Epoch 69/100\n",
      "92/92 [==============================] - 1s 6ms/step - loss: 0.0147 - val_loss: 0.0126\n",
      "Epoch 70/100\n",
      "92/92 [==============================] - 1s 6ms/step - loss: 0.0152 - val_loss: 0.0125\n",
      "Epoch 71/100\n",
      "92/92 [==============================] - 1s 6ms/step - loss: 0.0149 - val_loss: 0.0126\n",
      "Epoch 72/100\n",
      "92/92 [==============================] - 1s 6ms/step - loss: 0.0145 - val_loss: 0.0127\n",
      "Epoch 73/100\n",
      "92/92 [==============================] - 1s 6ms/step - loss: 0.0146 - val_loss: 0.0130\n",
      "Epoch 74/100\n",
      "92/92 [==============================] - 1s 7ms/step - loss: 0.0146 - val_loss: 0.0127\n",
      "Epoch 75/100\n",
      "92/92 [==============================] - 1s 6ms/step - loss: 0.0144 - val_loss: 0.0135\n",
      "Epoch 76/100\n",
      "92/92 [==============================] - 1s 6ms/step - loss: 0.0144 - val_loss: 0.0130\n",
      "Epoch 77/100\n",
      "92/92 [==============================] - 1s 6ms/step - loss: 0.0143 - val_loss: 0.0132\n",
      "Epoch 78/100\n",
      "92/92 [==============================] - 1s 6ms/step - loss: 0.0145 - val_loss: 0.0141\n",
      "Epoch 79/100\n",
      "92/92 [==============================] - 1s 6ms/step - loss: 0.0148 - val_loss: 0.0128\n",
      "Epoch 80/100\n",
      "92/92 [==============================] - 1s 7ms/step - loss: 0.0145 - val_loss: 0.0127\n",
      "Epoch 81/100\n",
      "92/92 [==============================] - 1s 7ms/step - loss: 0.0144 - val_loss: 0.0132\n",
      "Epoch 82/100\n",
      "92/92 [==============================] - 1s 6ms/step - loss: 0.0142 - val_loss: 0.0125\n",
      "Epoch 83/100\n",
      "92/92 [==============================] - 1s 6ms/step - loss: 0.0143 - val_loss: 0.0127\n",
      "Epoch 84/100\n",
      "92/92 [==============================] - 1s 6ms/step - loss: 0.0140 - val_loss: 0.0127\n",
      "Epoch 85/100\n",
      "92/92 [==============================] - 1s 6ms/step - loss: 0.0141 - val_loss: 0.0128\n",
      "Epoch 86/100\n",
      "92/92 [==============================] - 1s 6ms/step - loss: 0.0141 - val_loss: 0.0132\n",
      "Epoch 87/100\n",
      "92/92 [==============================] - 1s 6ms/step - loss: 0.0139 - val_loss: 0.0131\n",
      "Epoch 88/100\n",
      "92/92 [==============================] - 1s 7ms/step - loss: 0.0137 - val_loss: 0.0134\n",
      "Epoch 89/100\n",
      "92/92 [==============================] - 1s 6ms/step - loss: 0.0139 - val_loss: 0.0125\n",
      "Epoch 90/100\n",
      "92/92 [==============================] - 1s 6ms/step - loss: 0.0136 - val_loss: 0.0127\n",
      "Epoch 91/100\n",
      "92/92 [==============================] - 1s 6ms/step - loss: 0.0140 - val_loss: 0.0128\n",
      "Epoch 92/100\n",
      "92/92 [==============================] - 1s 6ms/step - loss: 0.0143 - val_loss: 0.0135\n",
      "Epoch 93/100\n",
      "92/92 [==============================] - 1s 6ms/step - loss: 0.0140 - val_loss: 0.0147\n",
      "Epoch 94/100\n",
      "92/92 [==============================] - 1s 6ms/step - loss: 0.0136 - val_loss: 0.0131\n",
      "Epoch 95/100\n",
      "92/92 [==============================] - 1s 7ms/step - loss: 0.0135 - val_loss: 0.0140\n",
      "Epoch 96/100\n",
      "92/92 [==============================] - 1s 6ms/step - loss: 0.0138 - val_loss: 0.0143\n",
      "Epoch 97/100\n",
      "92/92 [==============================] - 1s 6ms/step - loss: 0.0136 - val_loss: 0.0133\n",
      "Epoch 98/100\n",
      "92/92 [==============================] - 1s 7ms/step - loss: 0.0134 - val_loss: 0.0145\n",
      "Epoch 99/100\n",
      "92/92 [==============================] - 1s 7ms/step - loss: 0.0135 - val_loss: 0.0128\n",
      "Epoch 100/100\n",
      "92/92 [==============================] - 1s 6ms/step - loss: 0.0132 - val_loss: 0.0133\n"
     ]
    },
    {
     "data": {
      "text/plain": [
       "<keras.callbacks.History at 0x176e2b81ac0>"
      ]
     },
     "execution_count": 90,
     "metadata": {},
     "output_type": "execute_result"
    }
   ],
   "source": [
    "best_hp = tuner.get_best_hyperparameters()[0]\n",
    "\n",
    "# Acceder a un hiperparámetro específico, por ejemplo, la tasa de aprendizaje\n",
    "best_learning_rate = best_hp.get('learning_rate')\n",
    "print(\"Mejor tasa de aprendizaje: \", best_learning_rate)\n",
    "\n",
    "# Puedes reconstruir el modelo con estos hiperparámetros si es necesario\n",
    "model = build_model(best_hp)\n",
    "model.fit(X_train, y_train, epochs=100, batch_size=16, validation_data=(X_test, y_test))\n"
   ]
  }
 ],
 "metadata": {
  "kernelspec": {
   "display_name": "base",
   "language": "python",
   "name": "python3"
  },
  "language_info": {
   "codemirror_mode": {
    "name": "ipython",
    "version": 3
   },
   "file_extension": ".py",
   "mimetype": "text/x-python",
   "name": "python",
   "nbconvert_exporter": "python",
   "pygments_lexer": "ipython3",
   "version": "3.8.3"
  }
 },
 "nbformat": 4,
 "nbformat_minor": 2
}
