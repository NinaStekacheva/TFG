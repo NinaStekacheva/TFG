{
 "cells": [
  {
   "cell_type": "markdown",
   "metadata": {},
   "source": [
    "AIR QUALITY IN CATALONIA: DATA EXPLORATION"
   ]
  },
  {
   "cell_type": "markdown",
   "metadata": {},
   "source": [
    "Full dataset: \n",
    "https://analisi.transparenciacatalunya.cat/Medi-Ambient/Qualitat-de-l-aire-als-punts-de-mesurament-autom-t/tasf-thgu/about_data "
   ]
  },
  {
   "cell_type": "code",
   "execution_count": 131,
   "metadata": {},
   "outputs": [],
   "source": [
    "import pandas as pd\n",
    "\n",
    "# Reemplaza la ruta de abajo con la ruta exacta de tu archivo CSV\n",
    "file_path = 'data/Qualitat_de_l_aire_als_punts_de_mesurament_autom_tics_de_la_Xarxa_de_Vigil_ncia_i_Previsi__de_la_Contaminaci__Atmosf_rica_20240307.csv'\n",
    "\n",
    "# Leer el dataset CSV\n",
    "df = pd.read_csv(file_path, low_memory=False)\n"
   ]
  },
  {
   "cell_type": "code",
   "execution_count": 132,
   "metadata": {},
   "outputs": [
    {
     "name": "stdout",
     "output_type": "stream",
     "text": [
      "\n",
      "Full Dataset Shape:  (3261697, 40)\n",
      "\n",
      "Dataset Columns:  Index(['CODI EOI', 'NOM ESTACIO', 'DATA', 'MAGNITUD', 'CONTAMINANT', 'UNITATS',\n",
      "       'TIPUS ESTACIO', 'AREA URBANA', 'CODI INE', 'MUNICIPI', 'CODI COMARCA',\n",
      "       'NOM COMARCA', '01h', '02h', '03h', '04h', '05h', '06h', '07h', '08h',\n",
      "       '09h', '10h', '11h', '12h', '13h', '14h', '15h', '16h', '17h', '18h',\n",
      "       '19h', '20h', '21h', '22h', '23h', '24h', 'ALTITUD', 'LATITUD',\n",
      "       'LONGITUD', 'Georeferència'],\n",
      "      dtype='object')\n",
      "\n",
      "Unique Pollutants: ['NOX' 'NO' 'NO2' 'SO2' 'O3' 'H2S' 'PM2.5' 'PM10' 'C6H6' 'Hg' 'CO' 'PM1'\n",
      " 'Cl2' 'HCNM' 'HCT' 'PS' 'HCl']\n",
      "\n",
      "Regions: ['Garrigues' 'Baix Camp' 'Baix Llobregat' 'Vallès Oriental' 'Maresme'\n",
      " 'Osona' 'Alt Camp' 'Tarragonès' 'Bages' 'Montsià' 'Garraf'\n",
      " 'Vallès Occidental' 'Anoia' 'Gironès' 'Baix Empordà' 'Pallars Jussà'\n",
      " 'Cerdanya' 'Ribera d¿Ebre' 'Barcelonès' 'Garrotxa' 'Segrià' 'Terra Alta'\n",
      " 'Berguedà' 'Pallars Sobirà' 'Alt Penedès' 'Noguera' 'Baix Ebre' 'Priorat'\n",
      " 'Alt Empordà' 'Ripollès' \"Ribera d'Ebre\"]\n",
      "\n",
      "Station Types: ['background' 'industrial' 'traffic']\n",
      "\n",
      "Urban Areas: ['rural' 'suburban' 'urban' 'peri-urban']\n",
      "\n",
      "Units of measurement for each pollutant: CONTAMINANT\n",
      "C6H6            [µg/m3]\n",
      "CO              [mg/m3]\n",
      "Cl2             [µg/m3]\n",
      "H2S      [µg/m3, ug/m3]\n",
      "HCNM              [ppm]\n",
      "HCT               [ppm]\n",
      "HCl             [µg/m3]\n",
      "Hg              [ng/m3]\n",
      "NO              [µg/m3]\n",
      "NO2             [µg/m3]\n",
      "NOX             [µg/m3]\n",
      "O3              [µg/m3]\n",
      "PM1             [µg/m3]\n",
      "PM10            [µg/m3]\n",
      "PM2.5           [µg/m3]\n",
      "PS              [µg/m3]\n",
      "SO2             [µg/m3]\n",
      "Name: UNITATS, dtype: object\n"
     ]
    }
   ],
   "source": [
    "print('\\nFull Dataset Shape: ',df.shape)\n",
    "print('\\nDataset Columns: ',df.columns)\n",
    "print('\\nUnique Pollutants:',df['CONTAMINANT'].unique())\n",
    "print('\\nRegions:',df['NOM COMARCA'].unique())\n",
    "print('\\nStation Types:',df['TIPUS ESTACIO'].unique())\n",
    "print('\\nUrban Areas:',df['AREA URBANA'].unique())\n",
    "units_per_pollutant = df.groupby('CONTAMINANT')['UNITATS'].unique()\n",
    "print('\\nUnits of measurement for each pollutant:',units_per_pollutant)"
   ]
  },
  {
   "cell_type": "markdown",
   "metadata": {},
   "source": [
    "AREA OF INTEREST: Barcelona"
   ]
  },
  {
   "cell_type": "code",
   "execution_count": null,
   "metadata": {},
   "outputs": [
    {
     "name": "stdout",
     "output_type": "stream",
     "text": [
      "Archivo 'data/BarcelonaAirQuality.csv' creado con éxito.\n"
     ]
    }
   ],
   "source": [
    "# Filtrar los datos para obtener solo aquellos registros donde 'Nom estació' contiene 'Barcelona'\n",
    "df_barcelona = df[df['MUNICIPI']=='Barcelona']\n",
    "\n",
    "# Especificar la ruta del nuevo archivo CSV\n",
    "new_file_path = 'data/BarcelonaAirQuality.csv'\n",
    "\n",
    "# Guardar el dataframe filtrado en un nuevo archivo CSV\n",
    "df_barcelona.to_csv(new_file_path, index=False)\n",
    "\n",
    "print(f\"Archivo '{new_file_path}' creado con éxito.\")"
   ]
  },
  {
   "cell_type": "code",
   "execution_count": 22,
   "metadata": {},
   "outputs": [],
   "source": [
    "import pandas as pd\n",
    "\n",
    "# Reemplaza la ruta de abajo con la ruta exacta de tu archivo CSV\n",
    "file_path = 'data/BarcelonaAirQuality.csv'\n",
    "\n",
    "# Leer el dataset CSV\n",
    "df_barcelona = pd.read_csv(file_path, low_memory=False)\n",
    "#df_barcelona[\"DATA\"] = pd.to_datetime(df_barcelona[\"DATA\"], format='%d/%m/%Y', dayfirst=True)\n",
    "\n"
   ]
  },
  {
   "cell_type": "code",
   "execution_count": 23,
   "metadata": {},
   "outputs": [
    {
     "name": "stdout",
     "output_type": "stream",
     "text": [
      "\n",
      "Barcelona's Dataset Shape:  (343218, 40)\n"
     ]
    }
   ],
   "source": [
    "print(\"\\nBarcelona's Dataset Shape: \",df_barcelona.shape)"
   ]
  },
  {
   "cell_type": "code",
   "execution_count": 27,
   "metadata": {},
   "outputs": [],
   "source": [
    "def station_checker(df,station_name):\n",
    "    #prints na values, and the oldest and earliest date of a station data\n",
    "    df_station= df[df[\"NOM ESTACIO\"]==station_name]\n",
    "\n",
    "    num_rows_with_na = df_station.isna().any(axis=1).sum()\n",
    "    print(f\"\\nThe station {station_name} has {num_rows_with_na} rows with at least one NA value out of {df_station.shape[0]} rows.\")\n",
    "    #df_station[\"DATA\"] = pd.to_datetime(df_station[\"DATA\"])\n",
    "    print(f\"Data from {pd.to_datetime(df_station['DATA'],format='%d/%m/%Y', dayfirst=True).min()} to {pd.to_datetime(df_station['DATA'],format='%d/%m/%Y', dayfirst=True).max()}\")\n",
    "    \n",
    "\n",
    "    print(df_station['CONTAMINANT'].unique())"
   ]
  },
  {
   "cell_type": "code",
   "execution_count": 28,
   "metadata": {},
   "outputs": [
    {
     "name": "stdout",
     "output_type": "stream",
     "text": [
      "Barcelona (Parc Vall Hebron)\n",
      "\n",
      "The station Barcelona (Parc Vall Hebron) has 9937 rows with at least one NA value out of 36792 rows.\n",
      "Data from 2008-01-01 00:00:00 to 2024-03-07 00:00:00\n",
      "['NOX' 'NO' 'CO' 'NO2' 'SO2' 'PM10' 'O3']\n",
      "Barcelona (Ciutadella)\n",
      "\n",
      "The station Barcelona (Ciutadella) has 4538 rows with at least one NA value out of 31082 rows.\n",
      "Data from 2004-04-23 00:00:00 to 2024-03-07 00:00:00\n",
      "['NO2' 'NOX' 'NO' 'O3' 'CO' 'SO2']\n",
      "Barcelona (Eixample)\n",
      "\n",
      "The station Barcelona (Eixample) has 13417 rows with at least one NA value out of 54407 rows.\n",
      "Data from 1996-01-01 00:00:00 to 2024-03-07 00:00:00\n",
      "['PM10' 'O3' 'SO2' 'NO' 'PM2.5' 'CO' 'NO2' 'NOX' 'H2S']\n",
      "Barcelona (Palau Reial)\n",
      "\n",
      "The station Barcelona (Palau Reial) has 7027 rows with at least one NA value out of 31881 rows.\n",
      "Data from 2011-03-17 00:00:00 to 2024-03-07 00:00:00\n",
      "['CO' 'O3' 'PM2.5' 'NO2' 'SO2' 'NO' 'PM10' 'NOX']\n",
      "Barcelona (Poblenou)\n",
      "\n",
      "The station Barcelona (Poblenou) has 12641 rows with at least one NA value out of 50992 rows.\n",
      "Data from 1991-01-01 00:00:00 to 2024-03-07 00:00:00\n",
      "['NO' 'NOX' 'NO2' 'PM10' 'SO2' 'O3' 'CO' 'PM2.5']\n",
      "Barcelona (Gràcia - Sant Gervasi)\n",
      "\n",
      "The station Barcelona (Gràcia - Sant Gervasi) has 12951 rows with at least one NA value out of 56624 rows.\n",
      "Data from 1997-11-04 00:00:00 to 2024-03-07 00:00:00\n",
      "['SO2' 'NO2' 'O3' 'NOX' 'NO' 'PM10' 'CO' 'H2S' 'PM2.5']\n",
      "Barcelona (Observatori Fabra)\n",
      "\n",
      "The station Barcelona (Observatori Fabra) has 3026 rows with at least one NA value out of 10707 rows.\n",
      "Data from 2018-03-09 00:00:00 to 2024-03-07 00:00:00\n",
      "['NO' 'O3' 'PM10' 'NO2' 'NOX']\n",
      "Barcelona (Sants)\n",
      "\n",
      "The station Barcelona (Sants) has 6127 rows with at least one NA value out of 38864 rows.\n",
      "Data from 1994-05-13 00:00:00 to 2024-03-07 00:00:00\n",
      "['NO2' 'NO' 'NOX' 'CO' 'SO2' 'PM10']\n",
      "Barcelona (Torre Girona)\n",
      "\n",
      "The station Barcelona (Torre Girona) has 263 rows with at least one NA value out of 1343 rows.\n",
      "Data from 2010-04-01 00:00:00 to 2011-02-28 00:00:00\n",
      "['NO2' 'SO2' 'CO' 'O3' 'NO']\n",
      "Barcelona (Sagrera)\n",
      "\n",
      "The station Barcelona (Sagrera) has 3958 rows with at least one NA value out of 16733 rows.\n",
      "Data from 1992-04-24 00:00:00 to 2001-11-30 00:00:00\n",
      "['NO' 'NO2' 'PM10' 'O3' 'CO' 'SO2' 'PS']\n",
      "Barcelona (St. Gervasi)\n",
      "\n",
      "The station Barcelona (St. Gervasi) has 5238 rows with at least one NA value out of 13793 rows.\n",
      "Data from 1991-01-02 00:00:00 to 1997-11-04 00:00:00\n",
      "['NO' 'NO2' 'PS' 'O3' 'CO' 'SO2' 'HCT' 'HCNM']\n"
     ]
    }
   ],
   "source": [
    "\n",
    "bcn_stations=['Barcelona (Parc Vall Hebron)','Barcelona (Ciutadella)','Barcelona (Eixample)','Barcelona (Palau Reial)','Barcelona (Poblenou)','Barcelona (Gràcia - Sant Gervasi)','Barcelona (Observatori Fabra)','Barcelona (Sants)','Barcelona (Torre Girona)','Barcelona (Sagrera)','Barcelona (St. Gervasi)']\n",
    "for s in bcn_stations:\n",
    "    print(s)\n",
    "    station_checker(df_barcelona,s)"
   ]
  },
  {
   "cell_type": "markdown",
   "metadata": {},
   "source": [
    "Units used for each POLLUTANT"
   ]
  },
  {
   "cell_type": "code",
   "execution_count": 129,
   "metadata": {},
   "outputs": [
    {
     "data": {
      "text/plain": [
       "CONTAMINANT\n",
       "CO       [mg/m3]\n",
       "H2S      [µg/m3]\n",
       "HCNM       [ppm]\n",
       "HCT        [ppm]\n",
       "NO       [µg/m3]\n",
       "NO2      [µg/m3]\n",
       "NOX      [µg/m3]\n",
       "O3       [µg/m3]\n",
       "PM10     [µg/m3]\n",
       "PM2.5    [µg/m3]\n",
       "PS       [µg/m3]\n",
       "SO2      [µg/m3]\n",
       "Name: UNITATS, dtype: object"
      ]
     },
     "execution_count": 129,
     "metadata": {},
     "output_type": "execute_result"
    }
   ],
   "source": [
    "units_per_pollutant = df_barcelona.groupby('CONTAMINANT')['UNITATS'].unique()\n",
    "units_per_pollutant"
   ]
  },
  {
   "cell_type": "code",
   "execution_count": 91,
   "metadata": {},
   "outputs": [
    {
     "data": {
      "text/html": [
       "<div>\n",
       "<style scoped>\n",
       "    .dataframe tbody tr th:only-of-type {\n",
       "        vertical-align: middle;\n",
       "    }\n",
       "\n",
       "    .dataframe tbody tr th {\n",
       "        vertical-align: top;\n",
       "    }\n",
       "\n",
       "    .dataframe thead th {\n",
       "        text-align: right;\n",
       "    }\n",
       "</style>\n",
       "<table border=\"1\" class=\"dataframe\">\n",
       "  <thead>\n",
       "    <tr style=\"text-align: right;\">\n",
       "      <th></th>\n",
       "      <th>CODI EOI</th>\n",
       "      <th>NOM ESTACIO</th>\n",
       "      <th>DATA</th>\n",
       "      <th>CONTAMINANT</th>\n",
       "      <th>UNITATS</th>\n",
       "      <th>TIPUS ESTACIO</th>\n",
       "      <th>AREA URBANA</th>\n",
       "      <th>CODI INE</th>\n",
       "      <th>MUNICIPI</th>\n",
       "      <th>CODI COMARCA</th>\n",
       "      <th>NOM COMARCA</th>\n",
       "      <th>ALTITUD</th>\n",
       "      <th>LATITUD</th>\n",
       "      <th>LONGITUD</th>\n",
       "      <th>Georeferència</th>\n",
       "      <th>Hora</th>\n",
       "      <th>Valor</th>\n",
       "    </tr>\n",
       "  </thead>\n",
       "  <tbody>\n",
       "    <tr>\n",
       "      <th>0</th>\n",
       "      <td>8019054</td>\n",
       "      <td>Barcelona (Parc Vall Hebron)</td>\n",
       "      <td>07/03/2024</td>\n",
       "      <td>NOX</td>\n",
       "      <td>µg/m3</td>\n",
       "      <td>background</td>\n",
       "      <td>urban</td>\n",
       "      <td>8019</td>\n",
       "      <td>Barcelona</td>\n",
       "      <td>13</td>\n",
       "      <td>Barcelonès</td>\n",
       "      <td>136</td>\n",
       "      <td>41.426110</td>\n",
       "      <td>2.148002</td>\n",
       "      <td>NaN</td>\n",
       "      <td>01h</td>\n",
       "      <td>49.0</td>\n",
       "    </tr>\n",
       "    <tr>\n",
       "      <th>1</th>\n",
       "      <td>8019050</td>\n",
       "      <td>Barcelona (Ciutadella)</td>\n",
       "      <td>07/03/2024</td>\n",
       "      <td>NO2</td>\n",
       "      <td>µg/m3</td>\n",
       "      <td>background</td>\n",
       "      <td>urban</td>\n",
       "      <td>8019</td>\n",
       "      <td>Barcelona</td>\n",
       "      <td>13</td>\n",
       "      <td>Barcelonès</td>\n",
       "      <td>7</td>\n",
       "      <td>41.386406</td>\n",
       "      <td>2.187398</td>\n",
       "      <td>NaN</td>\n",
       "      <td>01h</td>\n",
       "      <td>38.0</td>\n",
       "    </tr>\n",
       "    <tr>\n",
       "      <th>2</th>\n",
       "      <td>8019043</td>\n",
       "      <td>Barcelona (Eixample)</td>\n",
       "      <td>07/03/2024</td>\n",
       "      <td>PM10</td>\n",
       "      <td>µg/m3</td>\n",
       "      <td>traffic</td>\n",
       "      <td>urban</td>\n",
       "      <td>8019</td>\n",
       "      <td>Barcelona</td>\n",
       "      <td>13</td>\n",
       "      <td>Barcelonès</td>\n",
       "      <td>26</td>\n",
       "      <td>41.385315</td>\n",
       "      <td>2.153800</td>\n",
       "      <td>NaN</td>\n",
       "      <td>01h</td>\n",
       "      <td>17.0</td>\n",
       "    </tr>\n",
       "    <tr>\n",
       "      <th>3</th>\n",
       "      <td>8019054</td>\n",
       "      <td>Barcelona (Parc Vall Hebron)</td>\n",
       "      <td>07/03/2024</td>\n",
       "      <td>NO</td>\n",
       "      <td>µg/m3</td>\n",
       "      <td>background</td>\n",
       "      <td>urban</td>\n",
       "      <td>8019</td>\n",
       "      <td>Barcelona</td>\n",
       "      <td>13</td>\n",
       "      <td>Barcelonès</td>\n",
       "      <td>136</td>\n",
       "      <td>41.426110</td>\n",
       "      <td>2.148002</td>\n",
       "      <td>NaN</td>\n",
       "      <td>01h</td>\n",
       "      <td>5.0</td>\n",
       "    </tr>\n",
       "    <tr>\n",
       "      <th>4</th>\n",
       "      <td>8019057</td>\n",
       "      <td>Barcelona (Palau Reial)</td>\n",
       "      <td>07/03/2024</td>\n",
       "      <td>CO</td>\n",
       "      <td>mg/m3</td>\n",
       "      <td>background</td>\n",
       "      <td>urban</td>\n",
       "      <td>8019</td>\n",
       "      <td>Barcelona</td>\n",
       "      <td>13</td>\n",
       "      <td>Barcelonès</td>\n",
       "      <td>81</td>\n",
       "      <td>41.387490</td>\n",
       "      <td>2.115200</td>\n",
       "      <td>NaN</td>\n",
       "      <td>01h</td>\n",
       "      <td>0.3</td>\n",
       "    </tr>\n",
       "  </tbody>\n",
       "</table>\n",
       "</div>"
      ],
      "text/plain": [
       "   CODI EOI                   NOM ESTACIO        DATA CONTAMINANT UNITATS  \\\n",
       "0   8019054  Barcelona (Parc Vall Hebron)  07/03/2024         NOX   µg/m3   \n",
       "1   8019050        Barcelona (Ciutadella)  07/03/2024         NO2   µg/m3   \n",
       "2   8019043          Barcelona (Eixample)  07/03/2024        PM10   µg/m3   \n",
       "3   8019054  Barcelona (Parc Vall Hebron)  07/03/2024          NO   µg/m3   \n",
       "4   8019057       Barcelona (Palau Reial)  07/03/2024          CO   mg/m3   \n",
       "\n",
       "  TIPUS ESTACIO AREA URBANA  CODI INE   MUNICIPI  CODI COMARCA NOM COMARCA  \\\n",
       "0    background       urban      8019  Barcelona            13  Barcelonès   \n",
       "1    background       urban      8019  Barcelona            13  Barcelonès   \n",
       "2       traffic       urban      8019  Barcelona            13  Barcelonès   \n",
       "3    background       urban      8019  Barcelona            13  Barcelonès   \n",
       "4    background       urban      8019  Barcelona            13  Barcelonès   \n",
       "\n",
       "   ALTITUD    LATITUD  LONGITUD Georeferència Hora  Valor  \n",
       "0      136  41.426110  2.148002           NaN  01h   49.0  \n",
       "1        7  41.386406  2.187398           NaN  01h   38.0  \n",
       "2       26  41.385315  2.153800           NaN  01h   17.0  \n",
       "3      136  41.426110  2.148002           NaN  01h    5.0  \n",
       "4       81  41.387490  2.115200           NaN  01h    0.3  "
      ]
     },
     "execution_count": 91,
     "metadata": {},
     "output_type": "execute_result"
    }
   ],
   "source": [
    "# Hour columns to rows\n",
    "df_barcelona_melted = pd.melt(df_barcelona, id_vars=['CODI EOI', 'NOM ESTACIO', 'DATA','MAGNITUD', 'CONTAMINANT', 'UNITATS',\n",
    "                                 'TIPUS ESTACIO', 'AREA URBANA', 'CODI INE', 'MUNICIPI', 'CODI COMARCA',\n",
    "                                 'NOM COMARCA', 'ALTITUD', 'LATITUD', 'LONGITUD', 'Georeferència'],\n",
    "                    var_name='Hora', value_name='Valor')\n",
    "df_barcelona_melted.drop(columns=['MAGNITUD'],inplace=True)\n",
    "df_barcelona_melted.head()"
   ]
  },
  {
   "cell_type": "code",
   "execution_count": 95,
   "metadata": {},
   "outputs": [
    {
     "name": "stdout",
     "output_type": "stream",
     "text": [
      "CONTAMINANT  CODI EOI              NOM ESTACIO        DATA Hora   CO  H2S  \\\n",
      "0             8019003  Barcelona (St. Gervasi)  01/01/1992  01h  3.0  NaN   \n",
      "1             8019003  Barcelona (St. Gervasi)  01/01/1992  02h  5.3  NaN   \n",
      "2             8019003  Barcelona (St. Gervasi)  01/01/1992  03h  3.7  NaN   \n",
      "3             8019003  Barcelona (St. Gervasi)  01/01/1992  04h  6.1  NaN   \n",
      "4             8019003  Barcelona (St. Gervasi)  01/01/1992  05h  5.6  NaN   \n",
      "\n",
      "CONTAMINANT  HCNM  HCT     NO   NO2  NOX    O3  PM10  PM2.5    PS   SO2  \n",
      "0             NaN  NaN  140.0  62.0  NaN  15.0   NaN    NaN  71.0  42.0  \n",
      "1             NaN  NaN  195.0  66.0  NaN  11.0   NaN    NaN  79.0  43.0  \n",
      "2             NaN  NaN  177.0  64.0  NaN  10.0   NaN    NaN  69.0  46.0  \n",
      "3             NaN  NaN  355.0  52.0  NaN  13.0   NaN    NaN  76.0  49.0  \n",
      "4             NaN  NaN  328.0  54.0  NaN  14.0   NaN    NaN  84.0  48.0  \n"
     ]
    },
    {
     "data": {
      "text/html": [
       "<div>\n",
       "<style scoped>\n",
       "    .dataframe tbody tr th:only-of-type {\n",
       "        vertical-align: middle;\n",
       "    }\n",
       "\n",
       "    .dataframe tbody tr th {\n",
       "        vertical-align: top;\n",
       "    }\n",
       "\n",
       "    .dataframe thead th {\n",
       "        text-align: right;\n",
       "    }\n",
       "</style>\n",
       "<table border=\"1\" class=\"dataframe\">\n",
       "  <thead>\n",
       "    <tr style=\"text-align: right;\">\n",
       "      <th>CONTAMINANT</th>\n",
       "      <th>CODI EOI</th>\n",
       "      <th>NOM ESTACIO</th>\n",
       "      <th>DATA</th>\n",
       "      <th>Hora</th>\n",
       "      <th>CO</th>\n",
       "      <th>H2S</th>\n",
       "      <th>HCNM</th>\n",
       "      <th>HCT</th>\n",
       "      <th>NO</th>\n",
       "      <th>NO2</th>\n",
       "      <th>NOX</th>\n",
       "      <th>O3</th>\n",
       "      <th>PM10</th>\n",
       "      <th>PM2.5</th>\n",
       "      <th>PS</th>\n",
       "      <th>SO2</th>\n",
       "    </tr>\n",
       "  </thead>\n",
       "  <tbody>\n",
       "    <tr>\n",
       "      <th>0</th>\n",
       "      <td>8019003</td>\n",
       "      <td>Barcelona (St. Gervasi)</td>\n",
       "      <td>01/01/1992</td>\n",
       "      <td>01h</td>\n",
       "      <td>3.0</td>\n",
       "      <td>NaN</td>\n",
       "      <td>NaN</td>\n",
       "      <td>NaN</td>\n",
       "      <td>140.0</td>\n",
       "      <td>62.0</td>\n",
       "      <td>NaN</td>\n",
       "      <td>15.0</td>\n",
       "      <td>NaN</td>\n",
       "      <td>NaN</td>\n",
       "      <td>71.0</td>\n",
       "      <td>42.0</td>\n",
       "    </tr>\n",
       "    <tr>\n",
       "      <th>1</th>\n",
       "      <td>8019003</td>\n",
       "      <td>Barcelona (St. Gervasi)</td>\n",
       "      <td>01/01/1992</td>\n",
       "      <td>02h</td>\n",
       "      <td>5.3</td>\n",
       "      <td>NaN</td>\n",
       "      <td>NaN</td>\n",
       "      <td>NaN</td>\n",
       "      <td>195.0</td>\n",
       "      <td>66.0</td>\n",
       "      <td>NaN</td>\n",
       "      <td>11.0</td>\n",
       "      <td>NaN</td>\n",
       "      <td>NaN</td>\n",
       "      <td>79.0</td>\n",
       "      <td>43.0</td>\n",
       "    </tr>\n",
       "    <tr>\n",
       "      <th>2</th>\n",
       "      <td>8019003</td>\n",
       "      <td>Barcelona (St. Gervasi)</td>\n",
       "      <td>01/01/1992</td>\n",
       "      <td>03h</td>\n",
       "      <td>3.7</td>\n",
       "      <td>NaN</td>\n",
       "      <td>NaN</td>\n",
       "      <td>NaN</td>\n",
       "      <td>177.0</td>\n",
       "      <td>64.0</td>\n",
       "      <td>NaN</td>\n",
       "      <td>10.0</td>\n",
       "      <td>NaN</td>\n",
       "      <td>NaN</td>\n",
       "      <td>69.0</td>\n",
       "      <td>46.0</td>\n",
       "    </tr>\n",
       "    <tr>\n",
       "      <th>3</th>\n",
       "      <td>8019003</td>\n",
       "      <td>Barcelona (St. Gervasi)</td>\n",
       "      <td>01/01/1992</td>\n",
       "      <td>04h</td>\n",
       "      <td>6.1</td>\n",
       "      <td>NaN</td>\n",
       "      <td>NaN</td>\n",
       "      <td>NaN</td>\n",
       "      <td>355.0</td>\n",
       "      <td>52.0</td>\n",
       "      <td>NaN</td>\n",
       "      <td>13.0</td>\n",
       "      <td>NaN</td>\n",
       "      <td>NaN</td>\n",
       "      <td>76.0</td>\n",
       "      <td>49.0</td>\n",
       "    </tr>\n",
       "    <tr>\n",
       "      <th>4</th>\n",
       "      <td>8019003</td>\n",
       "      <td>Barcelona (St. Gervasi)</td>\n",
       "      <td>01/01/1992</td>\n",
       "      <td>05h</td>\n",
       "      <td>5.6</td>\n",
       "      <td>NaN</td>\n",
       "      <td>NaN</td>\n",
       "      <td>NaN</td>\n",
       "      <td>328.0</td>\n",
       "      <td>54.0</td>\n",
       "      <td>NaN</td>\n",
       "      <td>14.0</td>\n",
       "      <td>NaN</td>\n",
       "      <td>NaN</td>\n",
       "      <td>84.0</td>\n",
       "      <td>48.0</td>\n",
       "    </tr>\n",
       "    <tr>\n",
       "      <th>...</th>\n",
       "      <td>...</td>\n",
       "      <td>...</td>\n",
       "      <td>...</td>\n",
       "      <td>...</td>\n",
       "      <td>...</td>\n",
       "      <td>...</td>\n",
       "      <td>...</td>\n",
       "      <td>...</td>\n",
       "      <td>...</td>\n",
       "      <td>...</td>\n",
       "      <td>...</td>\n",
       "      <td>...</td>\n",
       "      <td>...</td>\n",
       "      <td>...</td>\n",
       "      <td>...</td>\n",
       "      <td>...</td>\n",
       "    </tr>\n",
       "    <tr>\n",
       "      <th>1565136</th>\n",
       "      <td>8019058</td>\n",
       "      <td>Barcelona (Observatori Fabra)</td>\n",
       "      <td>31/12/2023</td>\n",
       "      <td>20h</td>\n",
       "      <td>NaN</td>\n",
       "      <td>NaN</td>\n",
       "      <td>NaN</td>\n",
       "      <td>NaN</td>\n",
       "      <td>1.0</td>\n",
       "      <td>5.0</td>\n",
       "      <td>5.0</td>\n",
       "      <td>66.0</td>\n",
       "      <td>13.0</td>\n",
       "      <td>NaN</td>\n",
       "      <td>NaN</td>\n",
       "      <td>NaN</td>\n",
       "    </tr>\n",
       "    <tr>\n",
       "      <th>1565137</th>\n",
       "      <td>8019058</td>\n",
       "      <td>Barcelona (Observatori Fabra)</td>\n",
       "      <td>31/12/2023</td>\n",
       "      <td>21h</td>\n",
       "      <td>NaN</td>\n",
       "      <td>NaN</td>\n",
       "      <td>NaN</td>\n",
       "      <td>NaN</td>\n",
       "      <td>1.0</td>\n",
       "      <td>5.0</td>\n",
       "      <td>5.0</td>\n",
       "      <td>63.0</td>\n",
       "      <td>14.0</td>\n",
       "      <td>NaN</td>\n",
       "      <td>NaN</td>\n",
       "      <td>NaN</td>\n",
       "    </tr>\n",
       "    <tr>\n",
       "      <th>1565138</th>\n",
       "      <td>8019058</td>\n",
       "      <td>Barcelona (Observatori Fabra)</td>\n",
       "      <td>31/12/2023</td>\n",
       "      <td>22h</td>\n",
       "      <td>NaN</td>\n",
       "      <td>NaN</td>\n",
       "      <td>NaN</td>\n",
       "      <td>NaN</td>\n",
       "      <td>1.0</td>\n",
       "      <td>5.0</td>\n",
       "      <td>5.0</td>\n",
       "      <td>63.0</td>\n",
       "      <td>12.0</td>\n",
       "      <td>NaN</td>\n",
       "      <td>NaN</td>\n",
       "      <td>NaN</td>\n",
       "    </tr>\n",
       "    <tr>\n",
       "      <th>1565139</th>\n",
       "      <td>8019058</td>\n",
       "      <td>Barcelona (Observatori Fabra)</td>\n",
       "      <td>31/12/2023</td>\n",
       "      <td>23h</td>\n",
       "      <td>NaN</td>\n",
       "      <td>NaN</td>\n",
       "      <td>NaN</td>\n",
       "      <td>NaN</td>\n",
       "      <td>1.0</td>\n",
       "      <td>6.0</td>\n",
       "      <td>6.0</td>\n",
       "      <td>61.0</td>\n",
       "      <td>13.0</td>\n",
       "      <td>NaN</td>\n",
       "      <td>NaN</td>\n",
       "      <td>NaN</td>\n",
       "    </tr>\n",
       "    <tr>\n",
       "      <th>1565140</th>\n",
       "      <td>8019058</td>\n",
       "      <td>Barcelona (Observatori Fabra)</td>\n",
       "      <td>31/12/2023</td>\n",
       "      <td>24h</td>\n",
       "      <td>NaN</td>\n",
       "      <td>NaN</td>\n",
       "      <td>NaN</td>\n",
       "      <td>NaN</td>\n",
       "      <td>1.0</td>\n",
       "      <td>5.0</td>\n",
       "      <td>6.0</td>\n",
       "      <td>61.0</td>\n",
       "      <td>13.0</td>\n",
       "      <td>NaN</td>\n",
       "      <td>NaN</td>\n",
       "      <td>NaN</td>\n",
       "    </tr>\n",
       "  </tbody>\n",
       "</table>\n",
       "<p>1565141 rows × 16 columns</p>\n",
       "</div>"
      ],
      "text/plain": [
       "CONTAMINANT  CODI EOI                    NOM ESTACIO        DATA Hora   CO  \\\n",
       "0             8019003        Barcelona (St. Gervasi)  01/01/1992  01h  3.0   \n",
       "1             8019003        Barcelona (St. Gervasi)  01/01/1992  02h  5.3   \n",
       "2             8019003        Barcelona (St. Gervasi)  01/01/1992  03h  3.7   \n",
       "3             8019003        Barcelona (St. Gervasi)  01/01/1992  04h  6.1   \n",
       "4             8019003        Barcelona (St. Gervasi)  01/01/1992  05h  5.6   \n",
       "...               ...                            ...         ...  ...  ...   \n",
       "1565136       8019058  Barcelona (Observatori Fabra)  31/12/2023  20h  NaN   \n",
       "1565137       8019058  Barcelona (Observatori Fabra)  31/12/2023  21h  NaN   \n",
       "1565138       8019058  Barcelona (Observatori Fabra)  31/12/2023  22h  NaN   \n",
       "1565139       8019058  Barcelona (Observatori Fabra)  31/12/2023  23h  NaN   \n",
       "1565140       8019058  Barcelona (Observatori Fabra)  31/12/2023  24h  NaN   \n",
       "\n",
       "CONTAMINANT  H2S  HCNM  HCT     NO   NO2  NOX    O3  PM10  PM2.5    PS   SO2  \n",
       "0            NaN   NaN  NaN  140.0  62.0  NaN  15.0   NaN    NaN  71.0  42.0  \n",
       "1            NaN   NaN  NaN  195.0  66.0  NaN  11.0   NaN    NaN  79.0  43.0  \n",
       "2            NaN   NaN  NaN  177.0  64.0  NaN  10.0   NaN    NaN  69.0  46.0  \n",
       "3            NaN   NaN  NaN  355.0  52.0  NaN  13.0   NaN    NaN  76.0  49.0  \n",
       "4            NaN   NaN  NaN  328.0  54.0  NaN  14.0   NaN    NaN  84.0  48.0  \n",
       "...          ...   ...  ...    ...   ...  ...   ...   ...    ...   ...   ...  \n",
       "1565136      NaN   NaN  NaN    1.0   5.0  5.0  66.0  13.0    NaN   NaN   NaN  \n",
       "1565137      NaN   NaN  NaN    1.0   5.0  5.0  63.0  14.0    NaN   NaN   NaN  \n",
       "1565138      NaN   NaN  NaN    1.0   5.0  5.0  63.0  12.0    NaN   NaN   NaN  \n",
       "1565139      NaN   NaN  NaN    1.0   6.0  6.0  61.0  13.0    NaN   NaN   NaN  \n",
       "1565140      NaN   NaN  NaN    1.0   5.0  6.0  61.0  13.0    NaN   NaN   NaN  \n",
       "\n",
       "[1565141 rows x 16 columns]"
      ]
     },
     "execution_count": 95,
     "metadata": {},
     "output_type": "execute_result"
    }
   ],
   "source": [
    "# Transformar los datos para que los contaminantes sean las columnas\n",
    "df_barcelona_pivoted = df_barcelona_melted.pivot_table(index=['CODI EOI', 'NOM ESTACIO', 'DATA', 'Hora'], \n",
    "                          columns='CONTAMINANT', \n",
    "                          values='Valor', \n",
    "                          aggfunc='first').reset_index()\n",
    "\n",
    "# Mostrar el resultado\n",
    "print(df_barcelona_pivoted.head())\n",
    "df_barcelona_pivoted"
   ]
  },
  {
   "cell_type": "markdown",
   "metadata": {},
   "source": [
    "Fix Datetime"
   ]
  },
  {
   "cell_type": "code",
   "execution_count": 109,
   "metadata": {},
   "outputs": [],
   "source": [
    "from datetime import datetime, timedelta\n",
    "\n",
    "def adjust_datetime(row):\n",
    "    date_str, time_str = str(row['DATA'].replace('/', '-')), row['Hora'].replace('h', '')\n",
    "    # Replace \"24\" with \"00\" and add 1 day to date\n",
    "    if time_str == \"24\":\n",
    "        adjusted_date = datetime.strptime(date_str, '%d-%m-%Y') + timedelta(days=1)\n",
    "        adjusted_time = \"00\"\n",
    "        return adjusted_date.strftime('%d-%m-%Y') + ' ' + adjusted_time\n",
    "    else:\n",
    "        return date_str + ' ' + time_str\n",
    "\n",
    "df_barcelona_pivoted['Date_time'] = df_barcelona_pivoted.apply(adjust_datetime, axis=1)\n"
   ]
  },
  {
   "cell_type": "code",
   "execution_count": 110,
   "metadata": {},
   "outputs": [],
   "source": [
    "df_barcelona_pivoted['Date_time'] = pd.to_datetime(df_barcelona_pivoted['Date_time'],format='%d-%m-%Y %H', dayfirst=True)\n"
   ]
  },
  {
   "cell_type": "markdown",
   "metadata": {},
   "source": [
    "Now we can erase DATE and Hour columns"
   ]
  },
  {
   "cell_type": "code",
   "execution_count": 111,
   "metadata": {},
   "outputs": [],
   "source": [
    "df_barcelona_pivoted.drop(columns=['DATA', 'Hora'], inplace=True)"
   ]
  },
  {
   "cell_type": "markdown",
   "metadata": {},
   "source": [
    "Exclude stations with limited temporal coverage:  Barcelona (Torre Girona), Barcelona (Sagrera) and Barcelona (St. Gervasi)"
   ]
  },
  {
   "cell_type": "code",
   "execution_count": 133,
   "metadata": {},
   "outputs": [],
   "source": [
    "stations_to_remove = ['Barcelona (Torre Girona)', 'Barcelona (Sagrera)', 'Barcelona (St. Gervasi)']\n",
    "\n",
    "# Filtrar el DataFrame para excluir las filas donde 'NOM ESTACIO' está en la lista de estaciones a eliminar\n",
    "df_barcelona_pivoted_filtered = df_barcelona_pivoted[~df_barcelona_pivoted['NOM ESTACIO'].isin(stations_to_remove)]"
   ]
  },
  {
   "cell_type": "markdown",
   "metadata": {},
   "source": [
    "SMALL DATASETS CREATION"
   ]
  },
  {
   "cell_type": "code",
   "execution_count": 120,
   "metadata": {},
   "outputs": [],
   "source": [
    "def last_X_years_dataset(df,n_years):\n",
    "    #latest date on dataframe\n",
    "    latest_date = df['Date_time'].max()\n",
    "\n",
    "    # Get start date\n",
    "    start_date = latest_date - pd.DateOffset(years=n_years)\n",
    "\n",
    "    # Filter Data by date\n",
    "    df_last_X_years = df[df['Date_time'] >= start_date]\n",
    "\n",
    "    # Save to CSV file\n",
    "    df_last_X_years.to_csv(f\"./data/df_Barcelona_pivoted_{n_years}_years.csv\", index=False)\n",
    "    return df_last_X_years\n",
    "    "
   ]
  },
  {
   "cell_type": "code",
   "execution_count": 123,
   "metadata": {},
   "outputs": [],
   "source": [
    "def dataset_by_station(df,n_years):\n",
    "    #This function creates a dataset by unique value in 'NOM ESTACIO' column\n",
    "    unique_stations = df['NOM ESTACIO'].unique()\n",
    "    for station in unique_stations:\n",
    "        df_station = df[df['NOM ESTACIO'] == station]\n",
    "        filename = f\"./data/station_{station.replace(' ', '_').replace('/', '_').replace('(','').replace(')','')}_{n_years}_years.csv\"\n",
    "        df_station.to_csv(filename, index=False)\n",
    "        print(f\"Data saved for station named: {station}, File: {filename}\")\n"
   ]
  },
  {
   "cell_type": "markdown",
   "metadata": {},
   "source": [
    "1. Last 5 years"
   ]
  },
  {
   "cell_type": "code",
   "execution_count": 122,
   "metadata": {},
   "outputs": [],
   "source": [
    "df_barcelona_pivoted_5_years=last_X_years_dataset(df_barcelona_pivoted_filtered,5)\n",
    "\n"
   ]
  },
  {
   "cell_type": "markdown",
   "metadata": {},
   "source": [
    "1.1 Each Station"
   ]
  },
  {
   "cell_type": "code",
   "execution_count": 125,
   "metadata": {},
   "outputs": [
    {
     "name": "stdout",
     "output_type": "stream",
     "text": [
      "Data saved for station named: Barcelona (Poblenou), File: ./data/station_Barcelona_Poblenou_5_years.csv\n",
      "Data saved for station named: Barcelona (Sants), File: ./data/station_Barcelona_Sants_5_years.csv\n",
      "Data saved for station named: Barcelona (Eixample), File: ./data/station_Barcelona_Eixample_5_years.csv\n",
      "Data saved for station named: Barcelona (Gràcia - Sant Gervasi), File: ./data/station_Barcelona_Gràcia_-_Sant_Gervasi_5_years.csv\n",
      "Data saved for station named: Barcelona (Ciutadella), File: ./data/station_Barcelona_Ciutadella_5_years.csv\n",
      "Data saved for station named: Barcelona (Parc Vall Hebron), File: ./data/station_Barcelona_Parc_Vall_Hebron_5_years.csv\n",
      "Data saved for station named: Barcelona (Palau Reial), File: ./data/station_Barcelona_Palau_Reial_5_years.csv\n",
      "Data saved for station named: Barcelona (Observatori Fabra), File: ./data/station_Barcelona_Observatori_Fabra_5_years.csv\n"
     ]
    }
   ],
   "source": [
    "dataset_by_station(df_barcelona_pivoted_5_years,5)"
   ]
  },
  {
   "cell_type": "markdown",
   "metadata": {},
   "source": [
    "2. Last year"
   ]
  },
  {
   "cell_type": "code",
   "execution_count": 126,
   "metadata": {},
   "outputs": [],
   "source": [
    "df_barcelona_pivoted_1_years=last_X_years_dataset(df_barcelona_pivoted,1)\n",
    "\n"
   ]
  },
  {
   "cell_type": "markdown",
   "metadata": {},
   "source": [
    "2.1 Each Station"
   ]
  },
  {
   "cell_type": "code",
   "execution_count": 127,
   "metadata": {},
   "outputs": [
    {
     "name": "stdout",
     "output_type": "stream",
     "text": [
      "Data saved for station named: Barcelona (Poblenou), File: ./data/station_Barcelona_Poblenou_1_years.csv\n",
      "Data saved for station named: Barcelona (Sants), File: ./data/station_Barcelona_Sants_1_years.csv\n",
      "Data saved for station named: Barcelona (Eixample), File: ./data/station_Barcelona_Eixample_1_years.csv\n",
      "Data saved for station named: Barcelona (Gràcia - Sant Gervasi), File: ./data/station_Barcelona_Gràcia_-_Sant_Gervasi_1_years.csv\n",
      "Data saved for station named: Barcelona (Ciutadella), File: ./data/station_Barcelona_Ciutadella_1_years.csv\n",
      "Data saved for station named: Barcelona (Parc Vall Hebron), File: ./data/station_Barcelona_Parc_Vall_Hebron_1_years.csv\n",
      "Data saved for station named: Barcelona (Palau Reial), File: ./data/station_Barcelona_Palau_Reial_1_years.csv\n",
      "Data saved for station named: Barcelona (Observatori Fabra), File: ./data/station_Barcelona_Observatori_Fabra_1_years.csv\n"
     ]
    }
   ],
   "source": [
    "dataset_by_station(df_barcelona_pivoted_1_years,1)"
   ]
  },
  {
   "cell_type": "code",
   "execution_count": 79,
   "metadata": {},
   "outputs": [],
   "source": [
    "#borrar\n",
    "df_barcelona_melted.to_csv(\"data/BarcelonaAirQuality_melted.csv\", index=False)"
   ]
  },
  {
   "cell_type": "code",
   "execution_count": 134,
   "metadata": {},
   "outputs": [],
   "source": [
    "df_barcelona_pivoted_filtered.to_csv(\"data/BarcelonaAirQualityfiltered_pivoted.csv\", index=False)"
   ]
  }
 ],
 "metadata": {
  "kernelspec": {
   "display_name": "base",
   "language": "python",
   "name": "python3"
  },
  "language_info": {
   "codemirror_mode": {
    "name": "ipython",
    "version": 3
   },
   "file_extension": ".py",
   "mimetype": "text/x-python",
   "name": "python",
   "nbconvert_exporter": "python",
   "pygments_lexer": "ipython3",
   "version": "3.8.3"
  }
 },
 "nbformat": 4,
 "nbformat_minor": 2
}
